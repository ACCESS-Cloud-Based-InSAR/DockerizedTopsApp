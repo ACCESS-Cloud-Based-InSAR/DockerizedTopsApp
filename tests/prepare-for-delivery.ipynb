{
 "cells": [
  {
   "cell_type": "code",
   "execution_count": 1,
   "id": "0aeaef23",
   "metadata": {
    "ExecuteTime": {
     "end_time": "2021-10-12T19:38:28.561725Z",
     "start_time": "2021-10-12T19:38:27.342189Z"
    }
   },
   "outputs": [],
   "source": [
    "import requests\n",
    "from pathlib import Path\n",
    "from shapely.geometry import shape\n",
    "import json\n",
    "from isce2_topsapp.delivery_prep import prepare_for_delivery\n",
    "from isce2_topsapp.water_mask import get_water_mask_dataframe, get_water_mask_raster\n",
    "import rasterio\n",
    "import matplotlib.pyplot as plt"
   ]
  },
  {
   "cell_type": "markdown",
   "id": "377e9242",
   "metadata": {},
   "source": [
    "# Prepare for Delivery"
   ]
  },
  {
   "cell_type": "code",
   "execution_count": 2,
   "id": "3790a507",
   "metadata": {
    "ExecuteTime": {
     "end_time": "2021-10-12T19:38:39.866885Z",
     "start_time": "2021-10-12T19:38:28.563541Z"
    }
   },
   "outputs": [],
   "source": [
    "url = 'https://grfn.asf.alaska.edu/door/download/S1-GUNW-A-R-064-tops-20210723_20210711-015001-35393N_33512N-PP-6267-v2_0_4.nc'\n",
    "nc_path = Path(url.split('/')[-1])\n",
    "\n",
    "resp = requests.get(url)\n",
    "with open(nc_path, 'wb') as file:\n",
    "    file.write(resp.content)"
   ]
  },
  {
   "cell_type": "code",
   "execution_count": 3,
   "id": "00f39046",
   "metadata": {
    "ExecuteTime": {
     "end_time": "2021-10-12T19:38:39.871736Z",
     "start_time": "2021-10-12T19:38:39.868276Z"
    }
   },
   "outputs": [],
   "source": [
    "sample_data = json.load(open('sample_loc_metadata.json'))\n",
    "sample_data['ref_orbit'] = Path(sample_data['ref_orbit'])\n",
    "sample_data['sec_orbit'] = Path(sample_data['sec_orbit'])\n",
    "sample_data['full_res_dem_path'] = Path(sample_data['full_res_dem_path'])\n",
    "sample_data['low_res_dem_path'] = Path(sample_data['low_res_dem_path'])\n",
    "\n",
    "sample_data['intersection_geo'] = shape(sample_data['intersection_geo'])"
   ]
  },
  {
   "cell_type": "code",
   "execution_count": 4,
   "id": "7fef42cf",
   "metadata": {
    "ExecuteTime": {
     "end_time": "2021-10-12T19:39:15.011321Z",
     "start_time": "2021-10-12T19:38:39.873995Z"
    }
   },
   "outputs": [
    {
     "data": {
      "text/plain": [
       "[PosixPath('S1-GUNW-A-R-064-tops-20210723_20210711-015001-35393N_33512N-PP-6267-v2_0_4/S1-GUNW-A-R-064-tops-20210723_20210711-015001-35393N_33512N-PP-6267-v2_0_4.nc'),\n",
       " PosixPath('S1-GUNW-A-R-064-tops-20210723_20210711-015001-35393N_33512N-PP-6267-v2_0_4/browse.png'),\n",
       " PosixPath('S1-GUNW-A-R-064-tops-20210723_20210711-015001-35393N_33512N-PP-6267-v2_0_4/dataset.json')]"
      ]
     },
     "execution_count": 4,
     "metadata": {},
     "output_type": "execute_result"
    }
   ],
   "source": [
    "final_prod_directory = prepare_for_delivery(nc_path, sample_data)\n",
    "paths = list(final_prod_directory.glob('*'))\n",
    "paths"
   ]
  },
  {
   "cell_type": "markdown",
   "id": "9ec1beb0",
   "metadata": {},
   "source": [
    "# Water Mask Tests"
   ]
  },
  {
   "cell_type": "code",
   "execution_count": 5,
   "id": "df65e66c",
   "metadata": {
    "ExecuteTime": {
     "end_time": "2021-10-12T19:39:15.015232Z",
     "start_time": "2021-10-12T19:39:15.012847Z"
    }
   },
   "outputs": [],
   "source": [
    "nc_path_new = list(filter(lambda x: '.nc' in x.name, paths))[0]"
   ]
  },
  {
   "cell_type": "code",
   "execution_count": 6,
   "id": "9ca201cb",
   "metadata": {
    "ExecuteTime": {
     "end_time": "2021-10-12T19:39:15.036303Z",
     "start_time": "2021-10-12T19:39:15.016616Z"
    }
   },
   "outputs": [],
   "source": [
    "with rasterio.open(f'netcdf:{str(nc_path_new)}:/science/grids/data/connectedComponents') as ds:\n",
    "    p = ds.profile"
   ]
  },
  {
   "cell_type": "code",
   "execution_count": 7,
   "id": "2d3fedb7",
   "metadata": {
    "ExecuteTime": {
     "end_time": "2021-10-12T19:39:50.496887Z",
     "start_time": "2021-10-12T19:39:15.037930Z"
    }
   },
   "outputs": [
    {
     "name": "stdout",
     "output_type": "stream",
     "text": [
      "CPU times: user 1.25 s, sys: 1.74 s, total: 2.99 s\n",
      "Wall time: 35.5 s\n"
     ]
    }
   ],
   "source": [
    "%%time\n",
    "\n",
    "X = get_water_mask_raster(p)"
   ]
  },
  {
   "cell_type": "code",
   "execution_count": 8,
   "id": "8963d7db",
   "metadata": {
    "ExecuteTime": {
     "end_time": "2021-10-12T19:39:50.919680Z",
     "start_time": "2021-10-12T19:39:50.498094Z"
    }
   },
   "outputs": [
    {
     "data": {
      "text/plain": [
       "<matplotlib.image.AxesImage at 0x7fb8697d1ca0>"
      ]
     },
     "execution_count": 8,
     "metadata": {},
     "output_type": "execute_result"
    },
    {
     "data": {
      "image/png": "[encoded data removed]",
      "text/plain": [
       "<Figure size 432x288 with 1 Axes>"
      ]
     },
     "metadata": {
      "needs_background": "light"
     },
     "output_type": "display_data"
    }
   ],
   "source": [
    "plt.imshow(X)"
   ]
  },
  {
   "cell_type": "markdown",
   "id": "726687b9",
   "metadata": {},
   "source": [
    "Get a profile over the dateline"
   ]
  },
  {
   "cell_type": "code",
   "execution_count": 9,
   "id": "e4e19758",
   "metadata": {
    "ExecuteTime": {
     "end_time": "2021-10-12T19:39:50.924295Z",
     "start_time": "2021-10-12T19:39:50.921048Z"
    }
   },
   "outputs": [
    {
     "data": {
      "text/plain": [
       "Affine(0.000833333333333333, 0.0, -180.10791666666665,\n",
       "       0.0, -0.0008333333333333338, 66.39375)"
      ]
     },
     "execution_count": 9,
     "metadata": {},
     "output_type": "execute_result"
    }
   ],
   "source": [
    "t = p['transform']\n",
    "t2 = t.translation(xoff=-61, yoff=31) * t\n",
    "t2"
   ]
  },
  {
   "cell_type": "code",
   "execution_count": 10,
   "id": "097b1d2f",
   "metadata": {
    "ExecuteTime": {
     "end_time": "2021-10-12T19:40:54.887603Z",
     "start_time": "2021-10-12T19:39:50.926848Z"
    }
   },
   "outputs": [
    {
     "name": "stdout",
     "output_type": "stream",
     "text": [
      "CPU times: user 2.09 s, sys: 2.86 s, total: 4.95 s\n",
      "Wall time: 1min 3s\n"
     ]
    }
   ],
   "source": [
    "%%time\n",
    "\n",
    "p2 = p.copy()\n",
    "p2['transform'] = t2\n",
    "X2 = get_water_mask_raster(p2)"
   ]
  },
  {
   "cell_type": "code",
   "execution_count": 11,
   "id": "44ed7e97",
   "metadata": {
    "ExecuteTime": {
     "end_time": "2021-10-12T19:40:55.304384Z",
     "start_time": "2021-10-12T19:40:54.889062Z"
    }
   },
   "outputs": [
    {
     "data": {
      "text/plain": [
       "<matplotlib.image.AxesImage at 0x7fb8696a0c70>"
      ]
     },
     "execution_count": 11,
     "metadata": {},
     "output_type": "execute_result"
    },
    {
     "data": {
      "image/png": "[encoded data removed]",
      "text/plain": [
       "<Figure size 432x288 with 1 Axes>"
      ]
     },
     "metadata": {
      "needs_background": "light"
     },
     "output_type": "display_data"
    }
   ],
   "source": [
    "plt.imshow(X2)"
   ]
  },
  {
   "cell_type": "markdown",
   "id": "ae5a195a",
   "metadata": {},
   "source": [
    "## Read Vectorfile\n",
    "\n",
    "Again over the dateline in the +180 degree region."
   ]
  },
  {
   "cell_type": "code",
   "execution_count": 12,
   "id": "91c366ca",
   "metadata": {
    "ExecuteTime": {
     "end_time": "2021-10-12T19:41:53.873459Z",
     "start_time": "2021-10-12T19:40:55.305508Z"
    }
   },
   "outputs": [],
   "source": [
    "bounds = [175, 64, 185, 66]\n",
    "\n",
    "df = get_water_mask_dataframe(bounds)"
   ]
  },
  {
   "cell_type": "code",
   "execution_count": 13,
   "id": "6501e0f4",
   "metadata": {
    "ExecuteTime": {
     "end_time": "2021-10-12T19:41:53.984600Z",
     "start_time": "2021-10-12T19:41:53.874640Z"
    }
   },
   "outputs": [
    {
     "data": {
      "text/plain": [
       "<AxesSubplot:>"
      ]
     },
     "execution_count": 13,
     "metadata": {},
     "output_type": "execute_result"
    },
    {
     "data": {
      "image/png": "[encoded data removed]",
      "text/plain": [
       "<Figure size 432x288 with 1 Axes>"
      ]
     },
     "metadata": {
      "needs_background": "light"
     },
     "output_type": "display_data"
    }
   ],
   "source": [
    "df.plot()"
   ]
  }
 ],
 "metadata": {
  "kernelspec": {
   "display_name": "topsapp_env",
   "language": "python",
   "name": "topsapp_env"
  },
  "language_info": {
   "codemirror_mode": {
    "name": "ipython",
    "version": 3
   },
   "file_extension": ".py",
   "mimetype": "text/x-python",
   "name": "python",
   "nbconvert_exporter": "python",
   "pygments_lexer": "ipython3",
   "version": "3.8.10"
  }
 },
 "nbformat": 4,
 "nbformat_minor": 5
}
