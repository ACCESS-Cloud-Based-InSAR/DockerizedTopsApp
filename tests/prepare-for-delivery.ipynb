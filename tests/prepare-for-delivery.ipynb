{
 "cells": [
  {
   "cell_type": "code",
   "execution_count": 1,
   "id": "forward-hollow",
   "metadata": {
    "ExecuteTime": {
     "end_time": "2022-01-14T02:31:59.840915Z",
     "start_time": "2022-01-14T02:31:58.339608Z"
    }
   },
   "outputs": [],
   "source": [
    "import requests\n",
    "from pathlib import Path\n",
    "from shapely.geometry import shape\n",
    "import json\n",
    "from isce2_topsapp.delivery_prep import prepare_for_delivery\n",
    "from isce2_topsapp.water_mask import get_water_mask_dataframe, get_water_mask_raster\n",
    "from isce2_topsapp.delivery_prep import get_dataset_schema\n",
    "import rasterio\n",
    "import matplotlib.pyplot as plt\n",
    "import jsonschema"
   ]
  },
  {
   "cell_type": "markdown",
   "id": "chief-estimate",
   "metadata": {},
   "source": [
    "# Prepare for Delivery"
   ]
  },
  {
   "cell_type": "code",
   "execution_count": 2,
   "id": "documented-generic",
   "metadata": {
    "ExecuteTime": {
     "end_time": "2022-01-14T02:32:09.036872Z",
     "start_time": "2022-01-14T02:31:59.843097Z"
    }
   },
   "outputs": [],
   "source": [
    "url = 'https://grfn.asf.alaska.edu/door/download/S1-GUNW-A-R-064-tops-20210723_20210711-015001-35393N_33512N-PP-6267-v2_0_4.nc'\n",
    "nc_path = Path(url.split('/')[-1])\n",
    "\n",
    "resp = requests.get(url)\n",
    "with open(nc_path, 'wb') as file:\n",
    "    file.write(resp.content)"
   ]
  },
  {
   "cell_type": "code",
   "execution_count": 3,
   "id": "sensitive-labor",
   "metadata": {
    "ExecuteTime": {
     "end_time": "2022-01-14T02:32:09.042345Z",
     "start_time": "2022-01-14T02:32:09.038403Z"
    }
   },
   "outputs": [],
   "source": [
    "sample_data = json.load(open('sample_loc_metadata.json'))\n",
    "sample_data['ref_orbit'] = Path(sample_data['ref_orbit'])\n",
    "sample_data['sec_orbit'] = Path(sample_data['sec_orbit'])\n",
    "sample_data['full_res_dem_path'] = Path(sample_data['full_res_dem_path'])\n",
    "sample_data['low_res_dem_path'] = Path(sample_data['low_res_dem_path'])\n",
    "\n",
    "sample_data['intersection_geo'] = shape(sample_data['intersection_geo'])"
   ]
  },
  {
   "cell_type": "code",
   "execution_count": 4,
   "id": "listed-script",
   "metadata": {
    "ExecuteTime": {
     "end_time": "2022-01-14T02:33:23.102437Z",
     "start_time": "2022-01-14T02:32:09.044591Z"
    }
   },
   "outputs": [
    {
     "data": {
      "text/plain": [
       "[PosixPath('S1-GUNW-A-R-064-tops-20210723_20210711-015001-35393N_33512N-PP-6267-v2_0_4/.DS_Store'),\n",
       " PosixPath('S1-GUNW-A-R-064-tops-20210723_20210711-015001-35393N_33512N-PP-6267-v2_0_4/S1-GUNW-A-R-064-tops-20210723_20210711-015001-35393N_33512N-PP-6267-v2_0_4.json'),\n",
       " PosixPath('S1-GUNW-A-R-064-tops-20210723_20210711-015001-35393N_33512N-PP-6267-v2_0_4/S1-GUNW-A-R-064-tops-20210723_20210711-015001-35393N_33512N-PP-6267-v2_0_4.png'),\n",
       " PosixPath('S1-GUNW-A-R-064-tops-20210723_20210711-015001-35393N_33512N-PP-6267-v2_0_4/S1-GUNW-A-R-064-tops-20210723_20210711-015001-35393N_33512N-PP-6267-v2_0_4.nc')]"
      ]
     },
     "execution_count": 4,
     "metadata": {},
     "output_type": "execute_result"
    }
   ],
   "source": [
    "final_prod_directory = prepare_for_delivery(nc_path, sample_data)\n",
    "paths = list(final_prod_directory.glob('*'))\n",
    "paths"
   ]
  },
  {
   "cell_type": "markdown",
   "id": "dirty-morocco",
   "metadata": {},
   "source": [
    "# Validate JSON"
   ]
  },
  {
   "cell_type": "code",
   "execution_count": 5,
   "id": "martial-appeal",
   "metadata": {
    "ExecuteTime": {
     "end_time": "2022-01-14T02:33:23.109747Z",
     "start_time": "2022-01-14T02:33:23.103792Z"
    }
   },
   "outputs": [],
   "source": [
    "schema = get_dataset_schema()\n",
    "metadata = json.load(open('S1-GUNW-A-R-064-tops-20210723_20210711-015001-35393N_33512N-PP-6267-v2_0_4/S1-GUNW-A-R-064-tops-20210723_20210711-015001-35393N_33512N-PP-6267-v2_0_4.json'))\n",
    "\n",
    "assert(jsonschema.validate(instance=metadata, schema=schema) is None)"
   ]
  },
  {
   "cell_type": "markdown",
   "id": "limiting-efficiency",
   "metadata": {},
   "source": [
    "# Water Mask Tests"
   ]
  },
  {
   "cell_type": "code",
   "execution_count": 6,
   "id": "daily-inflation",
   "metadata": {
    "ExecuteTime": {
     "end_time": "2022-01-14T02:33:23.114503Z",
     "start_time": "2022-01-14T02:33:23.111838Z"
    }
   },
   "outputs": [],
   "source": [
    "nc_path_new = list(filter(lambda x: '.nc' in x.name, paths))[0]"
   ]
  },
  {
   "cell_type": "code",
   "execution_count": 7,
   "id": "negative-companion",
   "metadata": {
    "ExecuteTime": {
     "end_time": "2022-01-14T02:33:23.135154Z",
     "start_time": "2022-01-14T02:33:23.116376Z"
    }
   },
   "outputs": [],
   "source": [
    "with rasterio.open(f'netcdf:{str(nc_path_new)}:/science/grids/data/connectedComponents') as ds:\n",
    "    p = ds.profile"
   ]
  },
  {
   "cell_type": "code",
   "execution_count": 8,
   "id": "median-defensive",
   "metadata": {
    "ExecuteTime": {
     "end_time": "2022-01-14T02:35:11.474791Z",
     "start_time": "2022-01-14T02:33:23.136613Z"
    }
   },
   "outputs": [
    {
     "name": "stdout",
     "output_type": "stream",
     "text": [
      "CPU times: user 8.51 s, sys: 3.83 s, total: 12.3 s\n",
      "Wall time: 1min 48s\n"
     ]
    }
   ],
   "source": [
    "%%time\n",
    "\n",
    "X = get_water_mask_raster(p)"
   ]
  },
  {
   "cell_type": "code",
   "execution_count": 9,
   "id": "devoted-storm",
   "metadata": {
    "ExecuteTime": {
     "end_time": "2022-01-14T02:35:11.949772Z",
     "start_time": "2022-01-14T02:35:11.476506Z"
    }
   },
   "outputs": [
    {
     "data": {
      "text/plain": [
       "<matplotlib.image.AxesImage at 0x7f8d67d5db50>"
      ]
     },
     "execution_count": 9,
     "metadata": {},
     "output_type": "execute_result"
    },
    {
     "data": {
      "image/png": "[encoded data removed]",
      "text/plain": [
       "<Figure size 432x288 with 1 Axes>"
      ]
     },
     "metadata": {
      "needs_background": "light"
     },
     "output_type": "display_data"
    }
   ],
   "source": [
    "plt.imshow(X)"
   ]
  },
  {
   "cell_type": "markdown",
   "id": "intermediate-baking",
   "metadata": {},
   "source": [
    "Get a profile over the dateline"
   ]
  },
  {
   "cell_type": "code",
   "execution_count": 10,
   "id": "false-traffic",
   "metadata": {
    "ExecuteTime": {
     "end_time": "2022-01-14T02:35:11.957495Z",
     "start_time": "2022-01-14T02:35:11.953663Z"
    }
   },
   "outputs": [
    {
     "data": {
      "text/plain": [
       "Affine(0.000833333333333333, 0.0, -180.10791666666665,\n",
       "       0.0, -0.0008333333333333338, 66.39375)"
      ]
     },
     "execution_count": 10,
     "metadata": {},
     "output_type": "execute_result"
    }
   ],
   "source": [
    "t = p['transform']\n",
    "t2 = t.translation(xoff=-61, yoff=31) * t\n",
    "t2"
   ]
  },
  {
   "cell_type": "code",
   "execution_count": null,
   "id": "coordinate-hospital",
   "metadata": {
    "ExecuteTime": {
     "start_time": "2022-01-14T02:31:58.349Z"
    }
   },
   "outputs": [],
   "source": [
    "%%time\n",
    "\n",
    "p2 = p.copy()\n",
    "p2['transform'] = t2\n",
    "X2 = get_water_mask_raster(p2)"
   ]
  },
  {
   "cell_type": "code",
   "execution_count": null,
   "id": "demonstrated-footwear",
   "metadata": {
    "ExecuteTime": {
     "start_time": "2022-01-14T02:31:58.350Z"
    }
   },
   "outputs": [],
   "source": [
    "plt.imshow(X2)"
   ]
  },
  {
   "cell_type": "markdown",
   "id": "sudden-montgomery",
   "metadata": {},
   "source": [
    "## Read Vectorfile\n",
    "\n",
    "Again over the dateline in the +180 degree region."
   ]
  },
  {
   "cell_type": "code",
   "execution_count": null,
   "id": "fewer-bunch",
   "metadata": {
    "ExecuteTime": {
     "start_time": "2022-01-14T02:31:58.351Z"
    }
   },
   "outputs": [],
   "source": [
    "bounds = [175, 64, 185, 66]\n",
    "\n",
    "df = get_water_mask_dataframe(bounds)"
   ]
  },
  {
   "cell_type": "code",
   "execution_count": null,
   "id": "progressive-bumper",
   "metadata": {
    "ExecuteTime": {
     "start_time": "2022-01-14T02:31:58.353Z"
    }
   },
   "outputs": [],
   "source": [
    "df.plot()"
   ]
  }
 ],
 "metadata": {
  "kernelspec": {
   "display_name": "topsapp_env",
   "language": "python",
   "name": "topsapp_env"
  },
  "language_info": {
   "codemirror_mode": {
    "name": "ipython",
    "version": 3
   },
   "file_extension": ".py",
   "mimetype": "text/x-python",
   "name": "python",
   "nbconvert_exporter": "python",
   "pygments_lexer": "ipython3",
   "version": "3.8.12"
  }
 },
 "nbformat": 4,
 "nbformat_minor": 5
}
