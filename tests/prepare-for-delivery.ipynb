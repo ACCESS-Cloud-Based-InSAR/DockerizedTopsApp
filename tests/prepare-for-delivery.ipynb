{
 "cells": [
  {
   "cell_type": "code",
   "execution_count": null,
   "id": "forward-hollow",
   "metadata": {
    "ExecuteTime": {
     "end_time": "2023-02-03T23:43:57.541160Z",
     "start_time": "2023-02-03T23:43:54.317877Z"
    }
   },
   "outputs": [],
   "source": [
    "import requests\n",
    "from pathlib import Path\n",
    "from shapely.geometry import shape\n",
    "import json\n",
    "import isce2_topsapp\n",
    "from isce2_topsapp.delivery_prep import prepare_for_delivery\n",
    "from isce2_topsapp.water_mask import get_water_mask_dataframe, get_water_mask_raster\n",
    "from isce2_topsapp.delivery_prep import get_dataset_schema\n",
    "import rasterio\n",
    "import matplotlib.pyplot as plt\n",
    "import jsonschema"
   ]
  },
  {
   "cell_type": "markdown",
   "id": "chief-estimate",
   "metadata": {},
   "source": [
    "# Download GUNW"
   ]
  },
  {
   "cell_type": "code",
   "execution_count": null,
   "id": "documented-generic",
   "metadata": {
    "ExecuteTime": {
     "end_time": "2023-02-03T23:44:10.025498Z",
     "start_time": "2023-02-03T23:43:57.543656Z"
    }
   },
   "outputs": [],
   "source": [
    "url = 'https://grfn.asf.alaska.edu/door/download/S1-GUNW-A-R-064-tops-20210723_20210711-015001-35393N_33512N-PP-6267-v2_0_4.nc'\n",
    "nc_path = Path(url.split('/')[-1])\n",
    "\n",
    "resp = requests.get(url)\n",
    "with open(nc_path, 'wb') as file:\n",
    "    file.write(resp.content)"
   ]
  },
  {
   "cell_type": "markdown",
   "id": "b7fcc4d0",
   "metadata": {},
   "source": [
    "# Test add Layer\n",
    "\n",
    "Make a test ionosphere layer to illustrate how to add the layer."
   ]
  },
  {
   "cell_type": "code",
   "execution_count": null,
   "id": "c95b6dd0",
   "metadata": {
    "ExecuteTime": {
     "end_time": "2023-02-03T23:48:51.230827Z",
     "start_time": "2023-02-03T23:48:51.228003Z"
    }
   },
   "outputs": [],
   "source": [
    "\n",
    "from rasterio import default_gtiff_profile\n",
    "import rasterio\n",
    "from affine import Affine\n",
    "from rasterio.crs import CRS\n",
    "import numpy as np\n",
    "from pathlib import Path\n",
    "\n",
    "p = default_gtiff_profile.copy()"
   ]
  },
  {
   "cell_type": "code",
   "execution_count": null,
   "id": "239d2148",
   "metadata": {
    "ExecuteTime": {
     "end_time": "2023-02-03T23:48:51.891722Z",
     "start_time": "2023-02-03T23:48:51.884415Z"
    }
   },
   "outputs": [],
   "source": [
    "M = 12\n",
    "X = np.ones((M, M))\n",
    "t = Affine(1, 0, -1, 0, 1, -1)\n",
    "p['crs'] = CRS.from_epsg(4326)\n",
    "p['transform'] = t\n",
    "p['width'] = p['height'] = M\n",
    "p['driver'] = 'ISCE'\n",
    "p['count'] = 1"
   ]
  },
  {
   "cell_type": "markdown",
   "id": "62578441",
   "metadata": {},
   "source": [
    "The `DockerizedTopsApp/isce2_topsapp/packaging_utils/additional_layers.json` has the `input_relative_path`.\n",
    "\n",
    "Here that is `merged/ionosphere_for_gunw.geo`."
   ]
  },
  {
   "cell_type": "code",
   "execution_count": null,
   "id": "7fd297cb",
   "metadata": {
    "ExecuteTime": {
     "end_time": "2023-02-03T23:49:56.049768Z",
     "start_time": "2023-02-03T23:49:56.043410Z"
    },
    "scrolled": true
   },
   "outputs": [],
   "source": [
    "merged_dir = Path('merged')\n",
    "merged_dir.mkdir(exist_ok=True)\n",
    "with rasterio.open(merged_dir / 'ionosphere_for_gunw.geo', 'w', **p) as ds:\n",
    "    ds.write(X, 1)"
   ]
  },
  {
   "cell_type": "code",
   "execution_count": null,
   "id": "aa743e32",
   "metadata": {
    "ExecuteTime": {
     "end_time": "2023-02-03T23:53:11.392483Z",
     "start_time": "2023-02-03T23:53:10.279477Z"
    }
   },
   "outputs": [],
   "source": [
    "from isce2_topsapp.packaging_utils.additional_layers import add_2d_layer\n",
    "\n",
    "add_2d_layer('ionosphere', nc_path)"
   ]
  },
  {
   "cell_type": "markdown",
   "id": "bdf31f87",
   "metadata": {},
   "source": [
    "# Format localized test data"
   ]
  },
  {
   "cell_type": "code",
   "execution_count": null,
   "id": "sensitive-labor",
   "metadata": {
    "ExecuteTime": {
     "end_time": "2022-01-14T02:32:09.042345Z",
     "start_time": "2022-01-14T02:32:09.038403Z"
    }
   },
   "outputs": [],
   "source": [
    "sample_data_file = Path(isce2_topsapp.__file__).parent.parent / 'tests' / 'sample_loc_metadata.json'\n",
    "sample_data = json.loads(sample_data_file.read_text())\n",
    "sample_data['orbit_directory'] = Path(sample_data['orbit_directory'])\n",
    "sample_data['reference_orbits'] = [Path(orbit) for orbit in sample_data['reference_orbits']]\n",
    "sample_data['secondary_orbits'] = [Path(orbit) for orbit in sample_data['secondary_orbits']]\n",
    "sample_data['full_res_dem_path'] = Path(sample_data['full_res_dem_path'])\n",
    "sample_data['low_res_dem_path'] = Path(sample_data['low_res_dem_path'])\n",
    "\n",
    "sample_data['intersection_geo'] = shape(sample_data['intersection_geo'])"
   ]
  },
  {
   "cell_type": "markdown",
   "id": "4723bf8e",
   "metadata": {},
   "source": [
    "# Prepare for Delivery\n"
   ]
  },
  {
   "cell_type": "code",
   "execution_count": null,
   "id": "listed-script",
   "metadata": {
    "ExecuteTime": {
     "end_time": "2022-01-14T02:33:23.102437Z",
     "start_time": "2022-01-14T02:32:09.044591Z"
    }
   },
   "outputs": [],
   "source": [
    "final_prod_directory = prepare_for_delivery(nc_path, sample_data)\n",
    "paths = list(final_prod_directory.glob('*'))\n",
    "paths"
   ]
  },
  {
   "cell_type": "markdown",
   "id": "dirty-morocco",
   "metadata": {},
   "source": [
    "# Validate JSON"
   ]
  },
  {
   "cell_type": "code",
   "execution_count": null,
   "id": "martial-appeal",
   "metadata": {
    "ExecuteTime": {
     "end_time": "2022-01-14T02:33:23.109747Z",
     "start_time": "2022-01-14T02:33:23.103792Z"
    }
   },
   "outputs": [],
   "source": [
    "schema = get_dataset_schema()\n",
    "metadata = json.load(open('S1-GUNW-A-R-064-tops-20210723_20210711-015001-35393N_33512N-PP-6267-v2_0_4/S1-GUNW-A-R-064-tops-20210723_20210711-015001-35393N_33512N-PP-6267-v2_0_4.json'))\n",
    "\n",
    "assert(jsonschema.validate(instance=metadata, schema=schema) is None)"
   ]
  },
  {
   "cell_type": "markdown",
   "id": "limiting-efficiency",
   "metadata": {},
   "source": [
    "# Water Mask Tests"
   ]
  },
  {
   "cell_type": "code",
   "execution_count": null,
   "id": "daily-inflation",
   "metadata": {
    "ExecuteTime": {
     "end_time": "2022-01-14T02:33:23.114503Z",
     "start_time": "2022-01-14T02:33:23.111838Z"
    }
   },
   "outputs": [],
   "source": [
    "nc_path_new = list(filter(lambda x: '.nc' in x.name, paths))[0]"
   ]
  },
  {
   "cell_type": "code",
   "execution_count": null,
   "id": "negative-companion",
   "metadata": {
    "ExecuteTime": {
     "end_time": "2022-01-14T02:33:23.135154Z",
     "start_time": "2022-01-14T02:33:23.116376Z"
    }
   },
   "outputs": [],
   "source": [
    "with rasterio.open(f'netcdf:{str(nc_path_new)}:/science/grids/data/connectedComponents') as ds:\n",
    "    p = ds.profile"
   ]
  },
  {
   "cell_type": "code",
   "execution_count": null,
   "id": "median-defensive",
   "metadata": {
    "ExecuteTime": {
     "end_time": "2022-01-14T02:35:11.474791Z",
     "start_time": "2022-01-14T02:33:23.136613Z"
    }
   },
   "outputs": [],
   "source": [
    "%%time\n",
    "\n",
    "X = get_water_mask_raster(p)"
   ]
  },
  {
   "cell_type": "code",
   "execution_count": null,
   "id": "devoted-storm",
   "metadata": {
    "ExecuteTime": {
     "end_time": "2022-01-14T02:35:11.949772Z",
     "start_time": "2022-01-14T02:35:11.476506Z"
    }
   },
   "outputs": [],
   "source": [
    "plt.imshow(X)"
   ]
  },
  {
   "cell_type": "markdown",
   "id": "intermediate-baking",
   "metadata": {},
   "source": [
    "Get a profile over the dateline"
   ]
  },
  {
   "cell_type": "code",
   "execution_count": null,
   "id": "false-traffic",
   "metadata": {
    "ExecuteTime": {
     "end_time": "2022-01-14T02:35:11.957495Z",
     "start_time": "2022-01-14T02:35:11.953663Z"
    }
   },
   "outputs": [],
   "source": [
    "t = p['transform']\n",
    "t2 = t.translation(xoff=-61, yoff=31) * t\n",
    "t2"
   ]
  },
  {
   "cell_type": "code",
   "execution_count": null,
   "id": "coordinate-hospital",
   "metadata": {
    "ExecuteTime": {
     "end_time": "2022-01-14T02:38:07.686730Z",
     "start_time": "2022-01-14T02:35:11.959253Z"
    }
   },
   "outputs": [],
   "source": [
    "%%time\n",
    "\n",
    "p2 = p.copy()\n",
    "p2['transform'] = t2\n",
    "X2 = get_water_mask_raster(p2)"
   ]
  },
  {
   "cell_type": "code",
   "execution_count": null,
   "id": "demonstrated-footwear",
   "metadata": {
    "ExecuteTime": {
     "end_time": "2022-01-14T02:38:08.098353Z",
     "start_time": "2022-01-14T02:38:07.688128Z"
    }
   },
   "outputs": [],
   "source": [
    "plt.imshow(X2)"
   ]
  },
  {
   "cell_type": "markdown",
   "id": "sudden-montgomery",
   "metadata": {},
   "source": [
    "## Read Vectorfile\n",
    "\n",
    "Again over the dateline in the +180 degree region."
   ]
  },
  {
   "cell_type": "code",
   "execution_count": null,
   "id": "fewer-bunch",
   "metadata": {
    "ExecuteTime": {
     "end_time": "2022-01-14T02:41:23.420704Z",
     "start_time": "2022-01-14T02:38:08.099834Z"
    }
   },
   "outputs": [],
   "source": [
    "bounds = [175, 64, 185, 66]\n",
    "\n",
    "df = get_water_mask_dataframe(bounds)"
   ]
  },
  {
   "cell_type": "code",
   "execution_count": null,
   "id": "progressive-bumper",
   "metadata": {
    "ExecuteTime": {
     "end_time": "2022-01-14T02:41:23.671304Z",
     "start_time": "2022-01-14T02:41:23.422084Z"
    }
   },
   "outputs": [],
   "source": [
    "df.plot()"
   ]
  }
 ],
 "metadata": {
  "kernelspec": {
   "display_name": "topsapp_env",
   "language": "python",
   "name": "topsapp_env"
  },
  "language_info": {
   "codemirror_mode": {
    "name": "ipython",
    "version": 3
   },
   "file_extension": ".py",
   "mimetype": "text/x-python",
   "name": "python",
   "nbconvert_exporter": "python",
   "pygments_lexer": "ipython3",
   "version": "3.9.15"
  }
 },
 "nbformat": 4,
 "nbformat_minor": 5
}
