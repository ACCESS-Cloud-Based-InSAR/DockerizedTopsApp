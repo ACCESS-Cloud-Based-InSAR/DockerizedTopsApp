{
 "cells": [
  {
   "cell_type": "code",
   "execution_count": null,
   "id": "sapphire-destruction",
   "metadata": {
    "ExecuteTime": {
     "end_time": "2022-01-19T02:29:31.115098Z",
     "start_time": "2022-01-19T02:29:31.091871Z"
    }
   },
   "outputs": [],
   "source": [
    "%load_ext autoreload\n",
    "%autoreload 2"
   ]
  },
  {
   "cell_type": "code",
   "execution_count": null,
   "id": "civilian-arabic",
   "metadata": {
    "ExecuteTime": {
     "end_time": "2022-01-19T02:29:32.211581Z",
     "start_time": "2022-01-19T02:29:31.117277Z"
    }
   },
   "outputs": [],
   "source": [
    "from isce2_topsapp import download_slcs, download_orbits, download_dem_for_isce2, download_aux_cal"
   ]
  },
  {
   "cell_type": "markdown",
   "id": "invalid-deviation",
   "metadata": {},
   "source": [
    "# Input Data"
   ]
  },
  {
   "cell_type": "code",
   "execution_count": null,
   "id": "failing-building",
   "metadata": {
    "ExecuteTime": {
     "end_time": "2022-01-19T02:29:32.240826Z",
     "start_time": "2022-01-19T02:29:32.212779Z"
    }
   },
   "outputs": [],
   "source": [
    "data = {\n",
    "        \"reference_scenes\": [\"S1B_IW_SLC__1SDV_20210723T014947_20210723T015014_027915_0354B4_B3A9\"],\n",
    "        \"secondary_scenes\": [\"S1B_IW_SLC__1SDV_20210711T014922_20210711T014949_027740_034F80_859D\",\n",
    "                             \"S1B_IW_SLC__1SDV_20210711T014947_20210711T015013_027740_034F80_D404\",\n",
    "                             \"S1B_IW_SLC__1SDV_20210711T015011_20210711T015038_027740_034F80_376C\"]\n",
    "        }\n",
    "reference_scenes = data['reference_scenes']\n",
    "secondary_scenes = data['secondary_scenes']"
   ]
  },
  {
   "cell_type": "code",
   "execution_count": null,
   "id": "amended-aircraft",
   "metadata": {
    "ExecuteTime": {
     "end_time": "2022-01-19T02:29:32.269923Z",
     "start_time": "2022-01-19T02:29:32.243013Z"
    }
   },
   "outputs": [],
   "source": [
    "dry_run = True"
   ]
  },
  {
   "cell_type": "markdown",
   "id": "right-gender",
   "metadata": {},
   "source": [
    "# SLC"
   ]
  },
  {
   "cell_type": "markdown",
   "id": "australian-settlement",
   "metadata": {},
   "source": [
    "Do everything but download SLCs\n",
    "*Note, if you encounter `NetrcParseError: access too permissive` error, try to update permissions with `chmod 0600 ~/.netrc`"
   ]
  },
  {
   "cell_type": "code",
   "execution_count": null,
   "id": "third-trinity",
   "metadata": {
    "ExecuteTime": {
     "end_time": "2022-01-19T02:29:37.367808Z",
     "start_time": "2022-01-19T02:29:32.271241Z"
    }
   },
   "outputs": [],
   "source": [
    "out_slc = download_slcs(reference_scenes,\n",
    "                        secondary_scenes,\n",
    "                        dry_run=dry_run)\n",
    "out_slc"
   ]
  },
  {
   "cell_type": "markdown",
   "id": "mounted-title",
   "metadata": {},
   "source": [
    "# Orbits"
   ]
  },
  {
   "cell_type": "code",
   "execution_count": null,
   "id": "suitable-hardware",
   "metadata": {
    "ExecuteTime": {
     "end_time": "2022-01-19T02:29:44.689301Z",
     "start_time": "2022-01-19T02:29:37.369332Z"
    }
   },
   "outputs": [],
   "source": [
    "out_orbit = download_orbits(reference_scenes,\n",
    "                            secondary_scenes,\n",
    "                            dry_run=dry_run)\n",
    "out_orbit"
   ]
  },
  {
   "cell_type": "markdown",
   "id": "laden-amino",
   "metadata": {},
   "source": [
    "# DEM\n",
    "\n",
    "Don't currently have \"dry-run\" for this localization."
   ]
  },
  {
   "cell_type": "code",
   "execution_count": null,
   "id": "surprised-trinidad",
   "metadata": {
    "ExecuteTime": {
     "end_time": "2022-01-19T02:31:52.330620Z",
     "start_time": "2022-01-19T02:29:44.690665Z"
    }
   },
   "outputs": [],
   "source": [
    "out_dem = download_dem_for_isce2(out_slc['extent'])\n",
    "out_dem"
   ]
  },
  {
   "cell_type": "markdown",
   "id": "touched-cleanup",
   "metadata": {
    "ExecuteTime": {
     "end_time": "2021-09-21T16:57:52.231862Z",
     "start_time": "2021-09-21T16:57:52.231851Z"
    }
   },
   "source": [
    "# Aux Cal"
   ]
  },
  {
   "cell_type": "code",
   "execution_count": null,
   "id": "0d5bc798",
   "metadata": {
    "ExecuteTime": {
     "end_time": "2022-01-19T02:31:55.728888Z",
     "start_time": "2022-01-19T02:31:52.332425Z"
    }
   },
   "outputs": [],
   "source": [
    "out_aux_cal = download_aux_cal()"
   ]
  },
  {
   "cell_type": "markdown",
   "id": "311fec1d",
   "metadata": {},
   "source": [
    "# Combining Metadata"
   ]
  },
  {
   "cell_type": "code",
   "execution_count": null,
   "id": "083b456f",
   "metadata": {
    "ExecuteTime": {
     "end_time": "2022-01-19T02:31:55.765590Z",
     "start_time": "2022-01-19T02:31:55.730757Z"
    }
   },
   "outputs": [],
   "source": [
    "out = {**out_slc,\n",
    "       **out_dem,\n",
    "       **out_aux_cal,\n",
    "       **out_orbit}\n",
    "out"
   ]
  },
  {
   "cell_type": "markdown",
   "id": "4c69f52c",
   "metadata": {},
   "source": [
    "# Check Name"
   ]
  },
  {
   "cell_type": "code",
   "execution_count": null,
   "id": "f0da83b3",
   "metadata": {
    "ExecuteTime": {
     "end_time": "2022-01-19T02:31:55.828949Z",
     "start_time": "2022-01-19T02:31:55.768226Z"
    }
   },
   "outputs": [],
   "source": [
    "from isce2_topsapp.packaging import get_gunw_id\n",
    "\n",
    "gunw_id = get_gunw_id(reference_properties=out['reference_properties'],\n",
    "                      secondary_properties=out['secondary_properties'],\n",
    "                      extent=out['extent'])\n",
    "gunw_id\n"
   ]
  }
 ],
 "metadata": {
  "kernelspec": {
   "display_name": "topsapp_env",
   "language": "python",
   "name": "topsapp_env"
  },
  "language_info": {
   "codemirror_mode": {
    "name": "ipython",
    "version": 3
   },
   "file_extension": ".py",
   "mimetype": "text/x-python",
   "name": "python",
   "nbconvert_exporter": "python",
   "pygments_lexer": "ipython3",
   "version": "3.9.16"
  }
 },
 "nbformat": 4,
 "nbformat_minor": 5
}
