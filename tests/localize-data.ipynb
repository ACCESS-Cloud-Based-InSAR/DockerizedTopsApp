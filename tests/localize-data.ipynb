{
 "cells": [
  {
   "cell_type": "code",
   "execution_count": 1,
   "id": "sapphire-destruction",
   "metadata": {
    "ExecuteTime": {
     "end_time": "2021-09-21T17:11:43.859286Z",
     "start_time": "2021-09-21T17:11:43.839063Z"
    }
   },
   "outputs": [],
   "source": [
    "%load_ext autoreload\n",
    "%autoreload 2"
   ]
  },
  {
   "cell_type": "code",
   "execution_count": 2,
   "id": "civilian-arabic",
   "metadata": {
    "ExecuteTime": {
     "end_time": "2021-09-21T17:11:44.736231Z",
     "start_time": "2021-09-21T17:11:43.861375Z"
    }
   },
   "outputs": [],
   "source": [
    "from isce2_topsapp import download_slcs, download_orbits, download_dem_for_isce2, download_aux_cal\n",
    "import json"
   ]
  },
  {
   "cell_type": "markdown",
   "id": "invalid-deviation",
   "metadata": {},
   "source": [
    "# Input Data"
   ]
  },
  {
   "cell_type": "code",
   "execution_count": 3,
   "id": "failing-building",
   "metadata": {
    "ExecuteTime": {
     "end_time": "2021-09-21T17:11:44.762794Z",
     "start_time": "2021-09-21T17:11:44.737919Z"
    }
   },
   "outputs": [],
   "source": [
    "data = {\n",
    "        \"reference_scenes\": [\"S1B_IW_SLC__1SDV_20210723T014947_20210723T015014_027915_0354B4_B3A9\"],\n",
    "        \"secondary_scenes\": [\"S1B_IW_SLC__1SDV_20210711T014922_20210711T014949_027740_034F80_859D\",\n",
    "                             \"S1B_IW_SLC__1SDV_20210711T014947_20210711T015013_027740_034F80_D404\",\n",
    "                             \"S1B_IW_SLC__1SDV_20210711T015011_20210711T015038_027740_034F80_376C\"]\n",
    "        }\n",
    "reference_scenes = data['reference_scenes']\n",
    "secondary_scenes = data['secondary_scenes']"
   ]
  },
  {
   "cell_type": "code",
   "execution_count": 4,
   "id": "amended-aircraft",
   "metadata": {
    "ExecuteTime": {
     "end_time": "2021-09-21T17:11:44.789219Z",
     "start_time": "2021-09-21T17:11:44.764890Z"
    }
   },
   "outputs": [],
   "source": [
    "dry_run = True"
   ]
  },
  {
   "cell_type": "markdown",
   "id": "right-gender",
   "metadata": {},
   "source": [
    "# SLC"
   ]
  },
  {
   "cell_type": "markdown",
   "id": "australian-settlement",
   "metadata": {},
   "source": [
    "Do everything but download SLCs"
   ]
  },
  {
   "cell_type": "code",
   "execution_count": 5,
   "id": "third-trinity",
   "metadata": {
    "ExecuteTime": {
     "end_time": "2021-09-21T17:11:50.180999Z",
     "start_time": "2021-09-21T17:11:44.790562Z"
    }
   },
   "outputs": [
    {
     "name": "stderr",
     "output_type": "stream",
     "text": [
      "100%|████████████████████████████████████████████████████████████████████████████████| 4/4 [00:03<00:00,  1.25it/s]\n"
     ]
    },
    {
     "data": {
      "text/plain": [
       "{'ref_paths': ['S1B_IW_SLC__1SDV_20210723T014947_20210723T015014_027915_0354B4_B3A9.zip'],\n",
       " 'sec_paths': ['S1B_IW_SLC__1SDV_20210711T015011_20210711T015038_027740_034F80_376C.zip',\n",
       "  'S1B_IW_SLC__1SDV_20210711T014947_20210711T015013_027740_034F80_D404.zip',\n",
       "  'S1B_IW_SLC__1SDV_20210711T014922_20210711T014949_027740_034F80_859D.zip'],\n",
       " 'extent': [-119.080994, 33.405682, -115.988029, 35.43090952856198]}"
      ]
     },
     "execution_count": 5,
     "metadata": {},
     "output_type": "execute_result"
    }
   ],
   "source": [
    "out_slc = download_slcs(reference_scenes,\n",
    "                        secondary_scenes,\n",
    "                        dry_run=dry_run)\n",
    "out_slc"
   ]
  },
  {
   "cell_type": "markdown",
   "id": "mounted-title",
   "metadata": {},
   "source": [
    "# Orbits"
   ]
  },
  {
   "cell_type": "code",
   "execution_count": 10,
   "id": "suitable-hardware",
   "metadata": {
    "ExecuteTime": {
     "end_time": "2021-09-21T19:22:34.199530Z",
     "start_time": "2021-09-21T19:22:27.468137Z"
    }
   },
   "outputs": [
    {
     "data": {
      "text/plain": [
       "{'ref_orbit': PosixPath('orbits/S1B_OPER_AUX_POEORB_OPOD_20210812T111941_V20210722T225942_20210724T005942.EOF'),\n",
       " 'sec_orbit': PosixPath('orbits/S1B_OPER_AUX_POEORB_OPOD_20210731T111940_V20210710T225942_20210712T005942.EOF')}"
      ]
     },
     "execution_count": 10,
     "metadata": {},
     "output_type": "execute_result"
    }
   ],
   "source": [
    "out_orbit = download_orbits(reference_scenes,\n",
    "                            secondary_scenes,\n",
    "                            dry_run=dry_run)\n",
    "out_orbit"
   ]
  },
  {
   "cell_type": "markdown",
   "id": "laden-amino",
   "metadata": {},
   "source": [
    "# DEM\n",
    "\n",
    "Don't currently have \"dry-run\" for this localization."
   ]
  },
  {
   "cell_type": "code",
   "execution_count": 7,
   "id": "surprised-trinidad",
   "metadata": {
    "ExecuteTime": {
     "end_time": "2021-09-21T17:14:00.614592Z",
     "start_time": "2021-09-21T17:11:53.664548Z"
    }
   },
   "outputs": [
    {
     "name": "stderr",
     "output_type": "stream",
     "text": [
      "/Users/cmarshak/opt/anaconda3/envs/topsapp_env/lib/python3.8/site-packages/dem_stitcher/stitcher.py:125: UserWarning: . exists; data will be overwritten\n",
      "  warnings.warn(f'{dest_dir} exists; data will be overwritten')\n",
      "Downloading glo_30 tiles: 100%|████████████████████████████████████████████████████| 15/15 [01:49<00:00,  7.28s/it]\n"
     ]
    },
    {
     "name": "stdout",
     "output_type": "stream",
     "text": [
      "This is the Open Source version of ISCE.\n",
      "Some of the workflows depend on a separate licensed package.\n",
      "To obtain the licensed package, please make a request for ISCE\n",
      "through the website: https://download.jpl.nasa.gov/ops/request/index.cfm.\n",
      "Alternatively, if you are a member, or can become a member of WinSAR\n",
      "you may be able to obtain access to a version of the licensed sofware at\n",
      "https://winsar.unavco.org/software/isce\n",
      "Writing geotrans to VRT for /Users/cmarshak/bekaert-team/hyp3-topsApp/tests/low_res.dem.wgs84\n",
      "This is the Open Source version of ISCE.\n",
      "Some of the workflows depend on a separate licensed package.\n",
      "To obtain the licensed package, please make a request for ISCE\n",
      "through the website: https://download.jpl.nasa.gov/ops/request/index.cfm.\n",
      "Alternatively, if you are a member, or can become a member of WinSAR\n",
      "you may be able to obtain access to a version of the licensed sofware at\n",
      "https://winsar.unavco.org/software/isce\n",
      "Writing geotrans to VRT for /Users/cmarshak/bekaert-team/hyp3-topsApp/tests/full_res.dem.wgs84\n"
     ]
    },
    {
     "data": {
      "text/plain": [
       "{'extent_buffered': [-119.085, 33.402, -115.984, 35.435],\n",
       " 'full_res_dem_path': PosixPath('full_res.dem.wgs84'),\n",
       " 'low_res_dem_path': PosixPath('low_res.dem.wgs84')}"
      ]
     },
     "execution_count": 7,
     "metadata": {},
     "output_type": "execute_result"
    }
   ],
   "source": [
    "out_dem = download_dem_for_isce2(out_slc['extent'])\n",
    "out_dem"
   ]
  },
  {
   "cell_type": "markdown",
   "id": "touched-cleanup",
   "metadata": {
    "ExecuteTime": {
     "end_time": "2021-09-21T16:57:52.231862Z",
     "start_time": "2021-09-21T16:57:52.231851Z"
    }
   },
   "source": [
    "# Aux Cal"
   ]
  },
  {
   "cell_type": "code",
   "execution_count": 8,
   "id": "0d5bc798",
   "metadata": {
    "ExecuteTime": {
     "end_time": "2021-09-21T17:14:05.222672Z",
     "start_time": "2021-09-21T17:14:01.204351Z"
    }
   },
   "outputs": [],
   "source": [
    "out_aux_cal = download_aux_cal()"
   ]
  },
  {
   "cell_type": "markdown",
   "id": "311fec1d",
   "metadata": {},
   "source": [
    "# Combining Metadata"
   ]
  },
  {
   "cell_type": "code",
   "execution_count": 9,
   "id": "083b456f",
   "metadata": {
    "ExecuteTime": {
     "end_time": "2021-09-21T17:14:05.249993Z",
     "start_time": "2021-09-21T17:14:05.224059Z"
    }
   },
   "outputs": [
    {
     "data": {
      "text/plain": [
       "{'ref_paths': ['S1B_IW_SLC__1SDV_20210723T014947_20210723T015014_027915_0354B4_B3A9.zip'],\n",
       " 'sec_paths': ['S1B_IW_SLC__1SDV_20210711T015011_20210711T015038_027740_034F80_376C.zip',\n",
       "  'S1B_IW_SLC__1SDV_20210711T014947_20210711T015013_027740_034F80_D404.zip',\n",
       "  'S1B_IW_SLC__1SDV_20210711T014922_20210711T014949_027740_034F80_859D.zip'],\n",
       " 'extent': [-119.080994, 33.405682, -115.988029, 35.43090952856198],\n",
       " 'extent_buffered': [-119.085, 33.402, -115.984, 35.435],\n",
       " 'full_res_dem_path': PosixPath('full_res.dem.wgs84'),\n",
       " 'low_res_dem_path': PosixPath('low_res.dem.wgs84'),\n",
       " 'aux_cal_dir': 'aux_cal',\n",
       " 'ref_orbit': PosixPath('orbits/S1B_OPER_AUX_POEORB_OPOD_20210812T111941_V20210722T225942_20210724T005942.EOF'),\n",
       " 'sec_orbit': PosixPath('orbits/S1B_OPER_AUX_POEORB_OPOD_20210731T111940_V20210710T225942_20210712T005942.EOF')}"
      ]
     },
     "execution_count": 9,
     "metadata": {},
     "output_type": "execute_result"
    }
   ],
   "source": [
    "out = {**out_slc,\n",
    "       **out_dem,\n",
    "       **out_aux_cal,\n",
    "       **out_orbit}\n",
    "out"
   ]
  }
 ],
 "metadata": {
  "kernelspec": {
   "display_name": "topsapp_env",
   "language": "python",
   "name": "topsapp_env"
  },
  "language_info": {
   "codemirror_mode": {
    "name": "ipython",
    "version": 3
   },
   "file_extension": ".py",
   "mimetype": "text/x-python",
   "name": "python",
   "nbconvert_exporter": "python",
   "pygments_lexer": "ipython3",
   "version": "3.8.10"
  }
 },
 "nbformat": 4,
 "nbformat_minor": 5
}
