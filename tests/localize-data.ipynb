{
 "cells": [
  {
   "cell_type": "code",
   "execution_count": 1,
   "id": "sapphire-destruction",
   "metadata": {
    "ExecuteTime": {
     "end_time": "2022-01-19T02:29:31.115098Z",
     "start_time": "2022-01-19T02:29:31.091871Z"
    }
   },
   "outputs": [],
   "source": [
    "%load_ext autoreload\n",
    "%autoreload 2"
   ]
  },
  {
   "cell_type": "code",
   "execution_count": 2,
   "id": "civilian-arabic",
   "metadata": {
    "ExecuteTime": {
     "end_time": "2022-01-19T02:29:32.211581Z",
     "start_time": "2022-01-19T02:29:31.117277Z"
    }
   },
   "outputs": [],
   "source": [
    "from isce2_topsapp import download_slcs, download_orbits, download_dem_for_isce2, download_aux_cal\n",
    "import json"
   ]
  },
  {
   "cell_type": "markdown",
   "id": "invalid-deviation",
   "metadata": {},
   "source": [
    "# Input Data"
   ]
  },
  {
   "cell_type": "code",
   "execution_count": 3,
   "id": "failing-building",
   "metadata": {
    "ExecuteTime": {
     "end_time": "2022-01-19T02:29:32.240826Z",
     "start_time": "2022-01-19T02:29:32.212779Z"
    }
   },
   "outputs": [],
   "source": [
    "data = {\n",
    "        \"reference_scenes\": [\"S1B_IW_SLC__1SDV_20210723T014947_20210723T015014_027915_0354B4_B3A9\"],\n",
    "        \"secondary_scenes\": [\"S1B_IW_SLC__1SDV_20210711T014922_20210711T014949_027740_034F80_859D\",\n",
    "                             \"S1B_IW_SLC__1SDV_20210711T014947_20210711T015013_027740_034F80_D404\",\n",
    "                             \"S1B_IW_SLC__1SDV_20210711T015011_20210711T015038_027740_034F80_376C\"]\n",
    "        }\n",
    "reference_scenes = data['reference_scenes']\n",
    "secondary_scenes = data['secondary_scenes']"
   ]
  },
  {
   "cell_type": "code",
   "execution_count": 4,
   "id": "amended-aircraft",
   "metadata": {
    "ExecuteTime": {
     "end_time": "2022-01-19T02:29:32.269923Z",
     "start_time": "2022-01-19T02:29:32.243013Z"
    }
   },
   "outputs": [],
   "source": [
    "dry_run = True"
   ]
  },
  {
   "cell_type": "markdown",
   "id": "right-gender",
   "metadata": {},
   "source": [
    "# SLC"
   ]
  },
  {
   "cell_type": "markdown",
   "id": "australian-settlement",
   "metadata": {},
   "source": [
    "Do everything but download SLCs
    *Note, if you encounter `NetrcParseError: access too permissive` error, try to update permissions with `chmod 0600 ~/.netrc`
    "
   ]
  },
  {
   "cell_type": "code",
   "execution_count": 5,
   "id": "third-trinity",
   "metadata": {
    "ExecuteTime": {
     "end_time": "2022-01-19T02:29:37.367808Z",
     "start_time": "2022-01-19T02:29:32.271241Z"
    }
   },
   "outputs": [
    {
     "name": "stderr",
     "output_type": "stream",
     "text": [
      "Downloading SLCs: 100%|█████████████████████████████████████| 4/4 [00:03<00:00,  1.29it/s]\n"
     ]
    },
    {
     "data": {
      "text/plain": [
       "{'ref_paths': ['S1B_IW_SLC__1SDV_20210723T014947_20210723T015014_027915_0354B4_B3A9.zip'],\n",
       " 'sec_paths': ['S1B_IW_SLC__1SDV_20210711T015011_20210711T015038_027740_034F80_376C.zip',\n",
       "  'S1B_IW_SLC__1SDV_20210711T014947_20210711T015013_027740_034F80_D404.zip',\n",
       "  'S1B_IW_SLC__1SDV_20210711T014922_20210711T014949_027740_034F80_859D.zip'],\n",
       " 'extent': [-119.080994, 33.405682, -115.988029, 35.43090952856198],\n",
       " 'intersection_geo': <shapely.geometry.polygon.Polygon at 0x7fea593af6d0>,\n",
       " 'reference_properties': [{'beamModeType': 'IW',\n",
       "   'browse': [],\n",
       "   'bytes': '4334545363',\n",
       "   'faradayRotation': None,\n",
       "   'fileID': 'S1B_IW_SLC__1SDV_20210723T014947_20210723T015014_027915_0354B4_B3A9-SLC',\n",
       "   'fileName': 'S1B_IW_SLC__1SDV_20210723T014947_20210723T015014_027915_0354B4_B3A9.zip',\n",
       "   'flightDirection': 'ASCENDING',\n",
       "   'frameNumber': '108',\n",
       "   'granuleType': 'SENTINEL_1B_FRAME',\n",
       "   'groupID': 'S1B_IWDV_0107_0114_027915_064',\n",
       "   'insarStackId': None,\n",
       "   'md5sum': 'fac5678b4b27b4321cde8953a95d0416',\n",
       "   'offNadirAngle': None,\n",
       "   'orbit': '27915',\n",
       "   'pathNumber': '64',\n",
       "   'platform': 'Sentinel-1B',\n",
       "   'pointingAngle': None,\n",
       "   'polarization': 'VV+VH',\n",
       "   'processingDate': '2021-07-23T01:49:47.000000',\n",
       "   'processingLevel': 'SLC',\n",
       "   'sceneName': 'S1B_IW_SLC__1SDV_20210723T014947_20210723T015014_027915_0354B4_B3A9',\n",
       "   'sensor': 'C-SAR',\n",
       "   'startTime': '2021-07-23T01:49:47.000000',\n",
       "   'stopTime': '2021-07-23T01:50:14.000000',\n",
       "   'url': 'https://datapool.asf.alaska.edu/SLC/SB/S1B_IW_SLC__1SDV_20210723T014947_20210723T015014_027915_0354B4_B3A9.zip'}],\n",
       " 'secondary_properties': [{'beamModeType': 'IW',\n",
       "   'browse': [],\n",
       "   'bytes': '4435118066',\n",
       "   'faradayRotation': None,\n",
       "   'fileID': 'S1B_IW_SLC__1SDV_20210711T015011_20210711T015038_027740_034F80_376C-SLC',\n",
       "   'fileName': 'S1B_IW_SLC__1SDV_20210711T015011_20210711T015038_027740_034F80_376C.zip',\n",
       "   'flightDirection': 'ASCENDING',\n",
       "   'frameNumber': '113',\n",
       "   'granuleType': 'SENTINEL_1B_FRAME',\n",
       "   'groupID': 'S1B_IWDV_0112_0119_027740_064',\n",
       "   'insarStackId': None,\n",
       "   'md5sum': '53c785599671f23bebc9493e7c5113c4',\n",
       "   'offNadirAngle': None,\n",
       "   'orbit': '27740',\n",
       "   'pathNumber': '64',\n",
       "   'platform': 'Sentinel-1B',\n",
       "   'pointingAngle': None,\n",
       "   'polarization': 'VV+VH',\n",
       "   'processingDate': '2021-07-11T01:50:11.000000',\n",
       "   'processingLevel': 'SLC',\n",
       "   'sceneName': 'S1B_IW_SLC__1SDV_20210711T015011_20210711T015038_027740_034F80_376C',\n",
       "   'sensor': 'C-SAR',\n",
       "   'startTime': '2021-07-11T01:50:11.000000',\n",
       "   'stopTime': '2021-07-11T01:50:38.000000',\n",
       "   'url': 'https://datapool.asf.alaska.edu/SLC/SB/S1B_IW_SLC__1SDV_20210711T015011_20210711T015038_027740_034F80_376C.zip'},\n",
       "  {'beamModeType': 'IW',\n",
       "   'browse': [],\n",
       "   'bytes': '4345308811',\n",
       "   'faradayRotation': None,\n",
       "   'fileID': 'S1B_IW_SLC__1SDV_20210711T014947_20210711T015013_027740_034F80_D404-SLC',\n",
       "   'fileName': 'S1B_IW_SLC__1SDV_20210711T014947_20210711T015013_027740_034F80_D404.zip',\n",
       "   'flightDirection': 'ASCENDING',\n",
       "   'frameNumber': '108',\n",
       "   'granuleType': 'SENTINEL_1B_FRAME',\n",
       "   'groupID': 'S1B_IWDV_0107_0114_027740_064',\n",
       "   'insarStackId': None,\n",
       "   'md5sum': '56b2004a93ad86b82e128e5ac9f04a94',\n",
       "   'offNadirAngle': None,\n",
       "   'orbit': '27740',\n",
       "   'pathNumber': '64',\n",
       "   'platform': 'Sentinel-1B',\n",
       "   'pointingAngle': None,\n",
       "   'polarization': 'VV+VH',\n",
       "   'processingDate': '2021-07-11T01:49:47.000000',\n",
       "   'processingLevel': 'SLC',\n",
       "   'sceneName': 'S1B_IW_SLC__1SDV_20210711T014947_20210711T015013_027740_034F80_D404',\n",
       "   'sensor': 'C-SAR',\n",
       "   'startTime': '2021-07-11T01:49:47.000000',\n",
       "   'stopTime': '2021-07-11T01:50:13.000000',\n",
       "   'url': 'https://datapool.asf.alaska.edu/SLC/SB/S1B_IW_SLC__1SDV_20210711T014947_20210711T015013_027740_034F80_D404.zip'},\n",
       "  {'beamModeType': 'IW',\n",
       "   'browse': [],\n",
       "   'bytes': '4150793626',\n",
       "   'faradayRotation': None,\n",
       "   'fileID': 'S1B_IW_SLC__1SDV_20210711T014922_20210711T014949_027740_034F80_859D-SLC',\n",
       "   'fileName': 'S1B_IW_SLC__1SDV_20210711T014922_20210711T014949_027740_034F80_859D.zip',\n",
       "   'flightDirection': 'ASCENDING',\n",
       "   'frameNumber': '103',\n",
       "   'granuleType': 'SENTINEL_1B_FRAME',\n",
       "   'groupID': 'S1B_IWDV_0102_0109_027740_064',\n",
       "   'insarStackId': None,\n",
       "   'md5sum': '8cad65891ffcbb32218cece857104ed3',\n",
       "   'offNadirAngle': None,\n",
       "   'orbit': '27740',\n",
       "   'pathNumber': '64',\n",
       "   'platform': 'Sentinel-1B',\n",
       "   'pointingAngle': None,\n",
       "   'polarization': 'VV+VH',\n",
       "   'processingDate': '2021-07-11T01:49:22.000000',\n",
       "   'processingLevel': 'SLC',\n",
       "   'sceneName': 'S1B_IW_SLC__1SDV_20210711T014922_20210711T014949_027740_034F80_859D',\n",
       "   'sensor': 'C-SAR',\n",
       "   'startTime': '2021-07-11T01:49:22.000000',\n",
       "   'stopTime': '2021-07-11T01:49:49.000000',\n",
       "   'url': 'https://datapool.asf.alaska.edu/SLC/SB/S1B_IW_SLC__1SDV_20210711T014922_20210711T014949_027740_034F80_859D.zip'}]}"
      ]
     },
     "execution_count": 5,
     "metadata": {},
     "output_type": "execute_result"
    }
   ],
   "source": [
    "out_slc = download_slcs(reference_scenes,\n",
    "                        secondary_scenes,\n",
    "                        dry_run=dry_run)\n",
    "out_slc"
   ]
  },
  {
   "cell_type": "markdown",
   "id": "mounted-title",
   "metadata": {},
   "source": [
    "# Orbits"
   ]
  },
  {
   "cell_type": "code",
   "execution_count": 6,
   "id": "suitable-hardware",
   "metadata": {
    "ExecuteTime": {
     "end_time": "2022-01-19T02:29:44.689301Z",
     "start_time": "2022-01-19T02:29:37.369332Z"
    }
   },
   "outputs": [
    {
     "data": {
      "text/plain": [
       "{'ref_orbit': PosixPath('orbits/S1B_OPER_AUX_POEORB_OPOD_20210812T111941_V20210722T225942_20210724T005942.EOF'),\n",
       " 'sec_orbit': PosixPath('orbits/S1B_OPER_AUX_POEORB_OPOD_20210731T111940_V20210710T225942_20210712T005942.EOF')}"
      ]
     },
     "execution_count": 6,
     "metadata": {},
     "output_type": "execute_result"
    }
   ],
   "source": [
    "out_orbit = download_orbits(reference_scenes,\n",
    "                            secondary_scenes,\n",
    "                            dry_run=dry_run)\n",
    "out_orbit"
   ]
  },
  {
   "cell_type": "markdown",
   "id": "laden-amino",
   "metadata": {},
   "source": [
    "# DEM\n",
    "\n",
    "Don't currently have \"dry-run\" for this localization."
   ]
  },
  {
   "cell_type": "code",
   "execution_count": 7,
   "id": "surprised-trinidad",
   "metadata": {
    "ExecuteTime": {
     "end_time": "2022-01-19T02:31:52.330620Z",
     "start_time": "2022-01-19T02:29:44.690665Z"
    }
   },
   "outputs": [
    {
     "name": "stderr",
     "output_type": "stream",
     "text": [
      "Reading glo_30 Datasets: 100%|████████████████████████████| 15/15 [00:19<00:00,  1.30s/it]\n"
     ]
    },
    {
     "name": "stdout",
     "output_type": "stream",
     "text": [
      "This is the Open Source version of ISCE.\n",
      "Some of the workflows depend on a separate licensed package.\n",
      "To obtain the licensed package, please make a request for ISCE\n",
      "through the website: https://download.jpl.nasa.gov/ops/request/index.cfm.\n",
      "Alternatively, if you are a member, or can become a member of WinSAR\n",
      "you may be able to obtain access to a version of the licensed sofware at\n",
      "https://winsar.unavco.org/software/isce\n",
      "Writing geotrans to VRT for /Users/cmarshak/bekaert-team/DockerizedTopsApp/tests/low_res.dem.wgs84\n",
      "This is the Open Source version of ISCE.\n",
      "Some of the workflows depend on a separate licensed package.\n",
      "To obtain the licensed package, please make a request for ISCE\n",
      "through the website: https://download.jpl.nasa.gov/ops/request/index.cfm.\n",
      "Alternatively, if you are a member, or can become a member of WinSAR\n",
      "you may be able to obtain access to a version of the licensed sofware at\n",
      "https://winsar.unavco.org/software/isce\n",
      "Writing geotrans to VRT for /Users/cmarshak/bekaert-team/DockerizedTopsApp/tests/full_res.dem.wgs84\n"
     ]
    },
    {
     "data": {
      "text/plain": [
       "{'extent_buffered': [-119.085, 33.402, -115.984, 35.435],\n",
       " 'full_res_dem_path': PosixPath('full_res.dem.wgs84'),\n",
       " 'low_res_dem_path': PosixPath('low_res.dem.wgs84')}"
      ]
     },
     "execution_count": 7,
     "metadata": {},
     "output_type": "execute_result"
    }
   ],
   "source": [
    "out_dem = download_dem_for_isce2(out_slc['extent'])\n",
    "out_dem"
   ]
  },
  {
   "cell_type": "markdown",
   "id": "touched-cleanup",
   "metadata": {
    "ExecuteTime": {
     "end_time": "2021-09-21T16:57:52.231862Z",
     "start_time": "2021-09-21T16:57:52.231851Z"
    }
   },
   "source": [
    "# Aux Cal"
   ]
  },
  {
   "cell_type": "code",
   "execution_count": 8,
   "id": "0d5bc798",
   "metadata": {
    "ExecuteTime": {
     "end_time": "2022-01-19T02:31:55.728888Z",
     "start_time": "2022-01-19T02:31:52.332425Z"
    }
   },
   "outputs": [],
   "source": [
    "out_aux_cal = download_aux_cal()"
   ]
  },
  {
   "cell_type": "markdown",
   "id": "311fec1d",
   "metadata": {},
   "source": [
    "# Combining Metadata"
   ]
  },
  {
   "cell_type": "code",
   "execution_count": 9,
   "id": "083b456f",
   "metadata": {
    "ExecuteTime": {
     "end_time": "2022-01-19T02:31:55.765590Z",
     "start_time": "2022-01-19T02:31:55.730757Z"
    }
   },
   "outputs": [
    {
     "data": {
      "text/plain": [
       "{'ref_paths': ['S1B_IW_SLC__1SDV_20210723T014947_20210723T015014_027915_0354B4_B3A9.zip'],\n",
       " 'sec_paths': ['S1B_IW_SLC__1SDV_20210711T015011_20210711T015038_027740_034F80_376C.zip',\n",
       "  'S1B_IW_SLC__1SDV_20210711T014947_20210711T015013_027740_034F80_D404.zip',\n",
       "  'S1B_IW_SLC__1SDV_20210711T014922_20210711T014949_027740_034F80_859D.zip'],\n",
       " 'extent': [-119.080994, 33.405682, -115.988029, 35.43090952856198],\n",
       " 'intersection_geo': <shapely.geometry.polygon.Polygon at 0x7fea593af6d0>,\n",
       " 'reference_properties': [{'beamModeType': 'IW',\n",
       "   'browse': [],\n",
       "   'bytes': '4334545363',\n",
       "   'faradayRotation': None,\n",
       "   'fileID': 'S1B_IW_SLC__1SDV_20210723T014947_20210723T015014_027915_0354B4_B3A9-SLC',\n",
       "   'fileName': 'S1B_IW_SLC__1SDV_20210723T014947_20210723T015014_027915_0354B4_B3A9.zip',\n",
       "   'flightDirection': 'ASCENDING',\n",
       "   'frameNumber': '108',\n",
       "   'granuleType': 'SENTINEL_1B_FRAME',\n",
       "   'groupID': 'S1B_IWDV_0107_0114_027915_064',\n",
       "   'insarStackId': None,\n",
       "   'md5sum': 'fac5678b4b27b4321cde8953a95d0416',\n",
       "   'offNadirAngle': None,\n",
       "   'orbit': '27915',\n",
       "   'pathNumber': '64',\n",
       "   'platform': 'Sentinel-1B',\n",
       "   'pointingAngle': None,\n",
       "   'polarization': 'VV+VH',\n",
       "   'processingDate': '2021-07-23T01:49:47.000000',\n",
       "   'processingLevel': 'SLC',\n",
       "   'sceneName': 'S1B_IW_SLC__1SDV_20210723T014947_20210723T015014_027915_0354B4_B3A9',\n",
       "   'sensor': 'C-SAR',\n",
       "   'startTime': '2021-07-23T01:49:47.000000',\n",
       "   'stopTime': '2021-07-23T01:50:14.000000',\n",
       "   'url': 'https://datapool.asf.alaska.edu/SLC/SB/S1B_IW_SLC__1SDV_20210723T014947_20210723T015014_027915_0354B4_B3A9.zip'}],\n",
       " 'secondary_properties': [{'beamModeType': 'IW',\n",
       "   'browse': [],\n",
       "   'bytes': '4435118066',\n",
       "   'faradayRotation': None,\n",
       "   'fileID': 'S1B_IW_SLC__1SDV_20210711T015011_20210711T015038_027740_034F80_376C-SLC',\n",
       "   'fileName': 'S1B_IW_SLC__1SDV_20210711T015011_20210711T015038_027740_034F80_376C.zip',\n",
       "   'flightDirection': 'ASCENDING',\n",
       "   'frameNumber': '113',\n",
       "   'granuleType': 'SENTINEL_1B_FRAME',\n",
       "   'groupID': 'S1B_IWDV_0112_0119_027740_064',\n",
       "   'insarStackId': None,\n",
       "   'md5sum': '53c785599671f23bebc9493e7c5113c4',\n",
       "   'offNadirAngle': None,\n",
       "   'orbit': '27740',\n",
       "   'pathNumber': '64',\n",
       "   'platform': 'Sentinel-1B',\n",
       "   'pointingAngle': None,\n",
       "   'polarization': 'VV+VH',\n",
       "   'processingDate': '2021-07-11T01:50:11.000000',\n",
       "   'processingLevel': 'SLC',\n",
       "   'sceneName': 'S1B_IW_SLC__1SDV_20210711T015011_20210711T015038_027740_034F80_376C',\n",
       "   'sensor': 'C-SAR',\n",
       "   'startTime': '2021-07-11T01:50:11.000000',\n",
       "   'stopTime': '2021-07-11T01:50:38.000000',\n",
       "   'url': 'https://datapool.asf.alaska.edu/SLC/SB/S1B_IW_SLC__1SDV_20210711T015011_20210711T015038_027740_034F80_376C.zip'},\n",
       "  {'beamModeType': 'IW',\n",
       "   'browse': [],\n",
       "   'bytes': '4345308811',\n",
       "   'faradayRotation': None,\n",
       "   'fileID': 'S1B_IW_SLC__1SDV_20210711T014947_20210711T015013_027740_034F80_D404-SLC',\n",
       "   'fileName': 'S1B_IW_SLC__1SDV_20210711T014947_20210711T015013_027740_034F80_D404.zip',\n",
       "   'flightDirection': 'ASCENDING',\n",
       "   'frameNumber': '108',\n",
       "   'granuleType': 'SENTINEL_1B_FRAME',\n",
       "   'groupID': 'S1B_IWDV_0107_0114_027740_064',\n",
       "   'insarStackId': None,\n",
       "   'md5sum': '56b2004a93ad86b82e128e5ac9f04a94',\n",
       "   'offNadirAngle': None,\n",
       "   'orbit': '27740',\n",
       "   'pathNumber': '64',\n",
       "   'platform': 'Sentinel-1B',\n",
       "   'pointingAngle': None,\n",
       "   'polarization': 'VV+VH',\n",
       "   'processingDate': '2021-07-11T01:49:47.000000',\n",
       "   'processingLevel': 'SLC',\n",
       "   'sceneName': 'S1B_IW_SLC__1SDV_20210711T014947_20210711T015013_027740_034F80_D404',\n",
       "   'sensor': 'C-SAR',\n",
       "   'startTime': '2021-07-11T01:49:47.000000',\n",
       "   'stopTime': '2021-07-11T01:50:13.000000',\n",
       "   'url': 'https://datapool.asf.alaska.edu/SLC/SB/S1B_IW_SLC__1SDV_20210711T014947_20210711T015013_027740_034F80_D404.zip'},\n",
       "  {'beamModeType': 'IW',\n",
       "   'browse': [],\n",
       "   'bytes': '4150793626',\n",
       "   'faradayRotation': None,\n",
       "   'fileID': 'S1B_IW_SLC__1SDV_20210711T014922_20210711T014949_027740_034F80_859D-SLC',\n",
       "   'fileName': 'S1B_IW_SLC__1SDV_20210711T014922_20210711T014949_027740_034F80_859D.zip',\n",
       "   'flightDirection': 'ASCENDING',\n",
       "   'frameNumber': '103',\n",
       "   'granuleType': 'SENTINEL_1B_FRAME',\n",
       "   'groupID': 'S1B_IWDV_0102_0109_027740_064',\n",
       "   'insarStackId': None,\n",
       "   'md5sum': '8cad65891ffcbb32218cece857104ed3',\n",
       "   'offNadirAngle': None,\n",
       "   'orbit': '27740',\n",
       "   'pathNumber': '64',\n",
       "   'platform': 'Sentinel-1B',\n",
       "   'pointingAngle': None,\n",
       "   'polarization': 'VV+VH',\n",
       "   'processingDate': '2021-07-11T01:49:22.000000',\n",
       "   'processingLevel': 'SLC',\n",
       "   'sceneName': 'S1B_IW_SLC__1SDV_20210711T014922_20210711T014949_027740_034F80_859D',\n",
       "   'sensor': 'C-SAR',\n",
       "   'startTime': '2021-07-11T01:49:22.000000',\n",
       "   'stopTime': '2021-07-11T01:49:49.000000',\n",
       "   'url': 'https://datapool.asf.alaska.edu/SLC/SB/S1B_IW_SLC__1SDV_20210711T014922_20210711T014949_027740_034F80_859D.zip'}],\n",
       " 'extent_buffered': [-119.085, 33.402, -115.984, 35.435],\n",
       " 'full_res_dem_path': PosixPath('full_res.dem.wgs84'),\n",
       " 'low_res_dem_path': PosixPath('low_res.dem.wgs84'),\n",
       " 'aux_cal_dir': 'aux_cal',\n",
       " 'ref_orbit': PosixPath('orbits/S1B_OPER_AUX_POEORB_OPOD_20210812T111941_V20210722T225942_20210724T005942.EOF'),\n",
       " 'sec_orbit': PosixPath('orbits/S1B_OPER_AUX_POEORB_OPOD_20210731T111940_V20210710T225942_20210712T005942.EOF')}"
      ]
     },
     "execution_count": 9,
     "metadata": {},
     "output_type": "execute_result"
    }
   ],
   "source": [
    "out = {**out_slc,\n",
    "       **out_dem,\n",
    "       **out_aux_cal,\n",
    "       **out_orbit}\n",
    "out"
   ]
  },
  {
   "cell_type": "markdown",
   "id": "4c69f52c",
   "metadata": {},
   "source": [
    "# Check Name"
   ]
  },
  {
   "cell_type": "code",
   "execution_count": 10,
   "id": "f0da83b3",
   "metadata": {
    "ExecuteTime": {
     "end_time": "2022-01-19T02:31:55.828949Z",
     "start_time": "2022-01-19T02:31:55.768226Z"
    }
   },
   "outputs": [
    {
     "name": "stderr",
     "output_type": "stream",
     "text": [
      "/Users/cmarshak/opt/anaconda3/envs/topsapp_env/lib/python3.8/site-packages/dateparser/date_parser.py:35: PytzUsageWarning: The localize method is no longer necessary, as this time zone supports the fold attribute (PEP 495). For more details on migrating to a PEP 495-compliant implementation, see https://pytz-deprecation-shim.readthedocs.io/en/latest/migration.html\n",
      "  date_obj = stz.localize(date_obj)\n"
     ]
    },
    {
     "data": {
      "text/plain": [
       "'S1-GUNW-A-R-064-tops-20210723_20210711-015000-00119W_00033N-PP-6267-v2_0_5'"
      ]
     },
     "execution_count": 10,
     "metadata": {},
     "output_type": "execute_result"
    }
   ],
   "source": [
    "from isce2_topsapp.packaging import get_gunw_id\n",
    "\n",
    "gunw_id = get_gunw_id(reference_properties=out['reference_properties'],\n",
    "                      secondary_properties=out['secondary_properties'],\n",
    "                      extent=out['extent'])\n",
    "gunw_id"
   ]
  }
 ],
 "metadata": {
  "kernelspec": {
   "display_name": "topsapp_env",
   "language": "python",
   "name": "topsapp_env"
  },
  "language_info": {
   "codemirror_mode": {
    "name": "ipython",
    "version": 3
   },
   "file_extension": ".py",
   "mimetype": "text/x-python",
   "name": "python",
   "nbconvert_exporter": "python",
   "pygments_lexer": "ipython3",
   "version": "3.8.12"
  }
 },
 "nbformat": 4,
 "nbformat_minor": 5
}
