{
 "cells": [
  {
   "cell_type": "code",
   "execution_count": 1,
   "id": "sapphire-destruction",
   "metadata": {
    "ExecuteTime": {
     "end_time": "2022-01-19T02:29:31.115098Z",
     "start_time": "2022-01-19T02:29:31.091871Z"
    }
   },
   "outputs": [],
   "source": [
    "%load_ext autoreload\n",
    "%autoreload 2"
   ]
  },
  {
   "cell_type": "code",
   "execution_count": 8,
   "id": "civilian-arabic",
   "metadata": {
    "ExecuteTime": {
     "end_time": "2022-01-19T02:29:32.211581Z",
     "start_time": "2022-01-19T02:29:31.117277Z"
    }
   },
   "outputs": [
    {
     "name": "stdout",
     "output_type": "stream",
     "text": [
      "2023-11-16 18:00:22,356 - matplotlib.font_manager - DEBUG - Using fontManager instance from /Users/cmarshak/.matplotlib/fontlist-v330.json\n"
     ]
    }
   ],
   "source": [
    "from isce2_topsapp import download_slcs, download_orbits, download_dem_for_isce2, download_aux_cal\n",
    "from isce2_topsapp.__main__ import check_esa_credentials"
   ]
  },
  {
   "cell_type": "markdown",
   "id": "invalid-deviation",
   "metadata": {},
   "source": [
    "# Input Data"
   ]
  },
  {
   "cell_type": "code",
   "execution_count": 3,
   "id": "failing-building",
   "metadata": {
    "ExecuteTime": {
     "end_time": "2022-01-19T02:29:32.240826Z",
     "start_time": "2022-01-19T02:29:32.212779Z"
    }
   },
   "outputs": [],
   "source": [
    "data = {\n",
    "        \"reference_scenes\": [\"S1B_IW_SLC__1SDV_20210723T014947_20210723T015014_027915_0354B4_B3A9\"],\n",
    "        \"secondary_scenes\": [\"S1B_IW_SLC__1SDV_20210711T014922_20210711T014949_027740_034F80_859D\",\n",
    "                             \"S1B_IW_SLC__1SDV_20210711T014947_20210711T015013_027740_034F80_D404\",\n",
    "                             \"S1B_IW_SLC__1SDV_20210711T015011_20210711T015038_027740_034F80_376C\"]\n",
    "        }\n",
    "reference_scenes = data['reference_scenes']\n",
    "secondary_scenes = data['secondary_scenes']"
   ]
  },
  {
   "cell_type": "code",
   "execution_count": 4,
   "id": "amended-aircraft",
   "metadata": {
    "ExecuteTime": {
     "end_time": "2022-01-19T02:29:32.269923Z",
     "start_time": "2022-01-19T02:29:32.243013Z"
    }
   },
   "outputs": [],
   "source": [
    "dry_run = True"
   ]
  },
  {
   "cell_type": "markdown",
   "id": "right-gender",
   "metadata": {},
   "source": [
    "# SLC"
   ]
  },
  {
   "cell_type": "markdown",
   "id": "australian-settlement",
   "metadata": {},
   "source": [
    "Do everything but download SLCs\n",
    "*Note, if you encounter `NetrcParseError: access too permissive` error, try to update permissions with `chmod 0600 ~/.netrc`"
   ]
  },
  {
   "cell_type": "code",
   "execution_count": 5,
   "id": "third-trinity",
   "metadata": {
    "ExecuteTime": {
     "end_time": "2022-01-19T02:29:37.367808Z",
     "start_time": "2022-01-19T02:29:32.271241Z"
    }
   },
   "outputs": [
    {
     "name": "stdout",
     "output_type": "stream",
     "text": [
      "2023-11-16 17:35:54,152 - fiona.env - DEBUG - PROJ data files are available at built-in paths.\n",
      "2023-11-16 17:35:54,172 - fiona.env - DEBUG - Entering env context: <fiona.env.Env object at 0x19ab7e850>\n",
      "2023-11-16 17:35:54,173 - fiona.env - DEBUG - Starting outermost env\n",
      "2023-11-16 17:35:54,173 - fiona.env - DEBUG - No GDAL environment exists\n",
      "2023-11-16 17:35:54,174 - fiona.env - DEBUG - New GDAL environment <fiona._env.GDALEnv object at 0x19a179be0> created\n",
      "2023-11-16 17:35:54,198 - fiona._env - DEBUG - GDAL_DATA found in environment.\n",
      "2023-11-16 17:35:54,199 - fiona._env - DEBUG - PROJ data files are available at built-in paths.\n",
      "2023-11-16 17:35:54,199 - fiona._env - DEBUG - Started GDALEnv: self=<fiona._env.GDALEnv object at 0x19a179be0>.\n",
      "2023-11-16 17:35:54,200 - fiona.env - DEBUG - Updated existing <fiona._env.GDALEnv object at 0x19a179be0> with options {}\n",
      "2023-11-16 17:35:54,200 - fiona.env - DEBUG - Entered env context: <fiona.env.Env object at 0x19ab7e850>\n",
      "2023-11-16 17:35:54,203 - fiona.env - DEBUG - Exiting env context: <fiona.env.Env object at 0x19ab7e850>\n",
      "2023-11-16 17:35:54,203 - fiona.env - DEBUG - Cleared existing <fiona._env.GDALEnv object at 0x19a179be0> options\n",
      "2023-11-16 17:35:54,204 - fiona._env - DEBUG - Stopping GDALEnv <fiona._env.GDALEnv object at 0x19a179be0>.\n",
      "2023-11-16 17:35:54,204 - fiona._env - DEBUG - Error handler popped.\n",
      "2023-11-16 17:35:54,205 - fiona._env - DEBUG - Stopped GDALEnv <fiona._env.GDALEnv object at 0x19a179be0>.\n",
      "2023-11-16 17:35:54,205 - fiona.env - DEBUG - Exiting outermost env\n",
      "2023-11-16 17:35:54,205 - fiona.env - DEBUG - Exited env context: <fiona.env.Env object at 0x19ab7e850>\n",
      "2023-11-16 17:35:54,228 - fiona.env - DEBUG - Entering env context: <fiona.env.Env object at 0x10cf00f10>\n",
      "2023-11-16 17:35:54,228 - fiona.env - DEBUG - Starting outermost env\n",
      "2023-11-16 17:35:54,229 - fiona.env - DEBUG - No GDAL environment exists\n",
      "2023-11-16 17:35:54,230 - fiona.env - DEBUG - New GDAL environment <fiona._env.GDALEnv object at 0x18e0e7a60> created\n",
      "2023-11-16 17:35:54,230 - fiona._env - DEBUG - GDAL_DATA found in environment.\n",
      "2023-11-16 17:35:54,231 - fiona._env - DEBUG - PROJ data files are available at built-in paths.\n",
      "2023-11-16 17:35:54,231 - fiona._env - DEBUG - Started GDALEnv: self=<fiona._env.GDALEnv object at 0x18e0e7a60>.\n",
      "2023-11-16 17:35:54,231 - fiona.env - DEBUG - Updated existing <fiona._env.GDALEnv object at 0x18e0e7a60> with options {}\n",
      "2023-11-16 17:35:54,232 - fiona.env - DEBUG - Entered env context: <fiona.env.Env object at 0x10cf00f10>\n",
      "2023-11-16 17:35:54,242 - fiona.ogrext - DEBUG - Got coordinate system\n",
      "2023-11-16 17:35:54,243 - fiona.ogrext - DEBUG - Got coordinate system\n",
      "2023-11-16 17:35:54,244 - fiona.ogrext - DEBUG - OLC_FASTSETNEXTBYINDEX: 1\n",
      "2023-11-16 17:35:54,245 - fiona.ogrext - DEBUG - OLC_FASTFEATURECOUNT: 1\n",
      "2023-11-16 17:35:54,245 - fiona.ogrext - DEBUG - Next index: 0\n",
      "2023-11-16 17:35:54,246 - fiona.ogrext - DEBUG - Next index: 1\n",
      "2023-11-16 17:35:54,515 - fiona.ogrext - DEBUG - Next index: 2\n",
      "2023-11-16 17:35:54,536 - fiona.ogrext - DEBUG - Next index: 3\n",
      "2023-11-16 17:35:54,567 - fiona.ogrext - DEBUG - Next index: 4\n",
      "2023-11-16 17:35:54,605 - fiona.ogrext - DEBUG - Next index: 5\n",
      "2023-11-16 17:35:54,618 - fiona.ogrext - DEBUG - Next index: 6\n",
      "2023-11-16 17:35:54,639 - fiona.ogrext - DEBUG - Next index: 7\n",
      "2023-11-16 17:35:54,653 - fiona.ogrext - DEBUG - Next index: 8\n",
      "2023-11-16 17:35:54,739 - fiona.ogrext - DEBUG - Next index: 9\n",
      "2023-11-16 17:35:54,744 - fiona.ogrext - DEBUG - Next index: 10\n",
      "2023-11-16 17:35:54,753 - fiona.ogrext - DEBUG - Next index: 11\n",
      "2023-11-16 17:35:54,761 - fiona.collection - DEBUG - Flushed buffer\n",
      "2023-11-16 17:35:54,762 - fiona.collection - DEBUG - Stopped session\n",
      "2023-11-16 17:35:54,762 - fiona.env - DEBUG - Exiting env context: <fiona.env.Env object at 0x10cf00f10>\n",
      "2023-11-16 17:35:54,762 - fiona.env - DEBUG - Cleared existing <fiona._env.GDALEnv object at 0x18e0e7a60> options\n",
      "2023-11-16 17:35:54,763 - fiona._env - DEBUG - Stopping GDALEnv <fiona._env.GDALEnv object at 0x18e0e7a60>.\n",
      "2023-11-16 17:35:54,763 - fiona._env - DEBUG - Error handler popped.\n",
      "2023-11-16 17:35:54,763 - fiona._env - DEBUG - Stopped GDALEnv <fiona._env.GDALEnv object at 0x18e0e7a60>.\n",
      "2023-11-16 17:35:54,763 - fiona.env - DEBUG - Exiting outermost env\n",
      "2023-11-16 17:35:54,764 - fiona.env - DEBUG - Exited env context: <fiona.env.Env object at 0x10cf00f10>\n"
     ]
    },
    {
     "name": "stderr",
     "output_type": "stream",
     "text": [
      "Downloading SLCs: 100%|████████████████████████████████████████████████████| 4/4 [00:05<00:00,  1.29s/it]\n"
     ]
    },
    {
     "data": {
      "text/plain": [
       "{'ref_paths': ['S1B_IW_SLC__1SDV_20210723T014947_20210723T015014_027915_0354B4_B3A9.zip'],\n",
       " 'sec_paths': ['S1B_IW_SLC__1SDV_20210711T015011_20210711T015038_027740_034F80_376C.zip',\n",
       "  'S1B_IW_SLC__1SDV_20210711T014947_20210711T015013_027740_034F80_D404.zip',\n",
       "  'S1B_IW_SLC__1SDV_20210711T014922_20210711T014949_027740_034F80_859D.zip'],\n",
       " 'extent': [-119.080994, 33.405682, -115.988029, 35.43090952856198],\n",
       " 'gunw_geo': <POLYGON ((-118.731 33.534, -119.051 34.9, -119.051 34.9, -119.052 34.903, -...>,\n",
       " 'processing_extent': [-119.080994, 33.405682, -115.988029, 35.43090952856198],\n",
       " 'reference_properties': [{'beamModeType': 'IW',\n",
       "   'browse': None,\n",
       "   'bytes': 4334545363,\n",
       "   'centerLat': 34.4266,\n",
       "   'centerLon': -117.5237,\n",
       "   'faradayRotation': None,\n",
       "   'fileID': 'S1B_IW_SLC__1SDV_20210723T014947_20210723T015014_027915_0354B4_B3A9-SLC',\n",
       "   'flightDirection': 'ASCENDING',\n",
       "   'groupID': 'S1B_IWDV_0107_0114_027915_064',\n",
       "   'granuleType': 'SENTINEL_1B_FRAME',\n",
       "   'insarStackId': None,\n",
       "   'md5sum': 'fac5678b4b27b4321cde8953a95d0416',\n",
       "   'offNadirAngle': None,\n",
       "   'orbit': 27915,\n",
       "   'pathNumber': 64,\n",
       "   'platform': 'Sentinel-1B',\n",
       "   'pointingAngle': None,\n",
       "   'polarization': 'VV+VH',\n",
       "   'processingDate': '2021-07-23T01:49:47.000Z',\n",
       "   'processingLevel': 'SLC',\n",
       "   'sceneName': 'S1B_IW_SLC__1SDV_20210723T014947_20210723T015014_027915_0354B4_B3A9',\n",
       "   'sensor': 'C-SAR',\n",
       "   'startTime': '2021-07-23T01:49:47.000Z',\n",
       "   'stopTime': '2021-07-23T01:50:14.000Z',\n",
       "   'url': 'https://datapool.asf.alaska.edu/SLC/SB/S1B_IW_SLC__1SDV_20210723T014947_20210723T015014_027915_0354B4_B3A9.zip',\n",
       "   'pgeVersion': '003.31',\n",
       "   'fileName': 'S1B_IW_SLC__1SDV_20210723T014947_20210723T015014_027915_0354B4_B3A9.zip',\n",
       "   'frameNumber': 108}],\n",
       " 'secondary_properties': [{'beamModeType': 'IW',\n",
       "   'browse': None,\n",
       "   'bytes': 4435118066,\n",
       "   'centerLat': 35.9201,\n",
       "   'centerLon': -117.85,\n",
       "   'faradayRotation': None,\n",
       "   'fileID': 'S1B_IW_SLC__1SDV_20210711T015011_20210711T015038_027740_034F80_376C-SLC',\n",
       "   'flightDirection': 'ASCENDING',\n",
       "   'groupID': 'S1B_IWDV_0112_0119_027740_064',\n",
       "   'granuleType': 'SENTINEL_1B_FRAME',\n",
       "   'insarStackId': None,\n",
       "   'md5sum': '53c785599671f23bebc9493e7c5113c4',\n",
       "   'offNadirAngle': None,\n",
       "   'orbit': 27740,\n",
       "   'pathNumber': 64,\n",
       "   'platform': 'Sentinel-1B',\n",
       "   'pointingAngle': None,\n",
       "   'polarization': 'VV+VH',\n",
       "   'processingDate': '2021-07-11T01:50:11.000Z',\n",
       "   'processingLevel': 'SLC',\n",
       "   'sceneName': 'S1B_IW_SLC__1SDV_20210711T015011_20210711T015038_027740_034F80_376C',\n",
       "   'sensor': 'C-SAR',\n",
       "   'startTime': '2021-07-11T01:50:11.000Z',\n",
       "   'stopTime': '2021-07-11T01:50:38.000Z',\n",
       "   'url': 'https://datapool.asf.alaska.edu/SLC/SB/S1B_IW_SLC__1SDV_20210711T015011_20210711T015038_027740_034F80_376C.zip',\n",
       "   'pgeVersion': '003.31',\n",
       "   'fileName': 'S1B_IW_SLC__1SDV_20210711T015011_20210711T015038_027740_034F80_376C.zip',\n",
       "   'frameNumber': 113},\n",
       "  {'beamModeType': 'IW',\n",
       "   'browse': None,\n",
       "   'bytes': 4345308811,\n",
       "   'centerLat': 34.4262,\n",
       "   'centerLon': -117.5234,\n",
       "   'faradayRotation': None,\n",
       "   'fileID': 'S1B_IW_SLC__1SDV_20210711T014947_20210711T015013_027740_034F80_D404-SLC',\n",
       "   'flightDirection': 'ASCENDING',\n",
       "   'groupID': 'S1B_IWDV_0107_0114_027740_064',\n",
       "   'granuleType': 'SENTINEL_1B_FRAME',\n",
       "   'insarStackId': None,\n",
       "   'md5sum': '56b2004a93ad86b82e128e5ac9f04a94',\n",
       "   'offNadirAngle': None,\n",
       "   'orbit': 27740,\n",
       "   'pathNumber': 64,\n",
       "   'platform': 'Sentinel-1B',\n",
       "   'pointingAngle': None,\n",
       "   'polarization': 'VV+VH',\n",
       "   'processingDate': '2021-07-11T01:49:47.000Z',\n",
       "   'processingLevel': 'SLC',\n",
       "   'sceneName': 'S1B_IW_SLC__1SDV_20210711T014947_20210711T015013_027740_034F80_D404',\n",
       "   'sensor': 'C-SAR',\n",
       "   'startTime': '2021-07-11T01:49:47.000Z',\n",
       "   'stopTime': '2021-07-11T01:50:13.000Z',\n",
       "   'url': 'https://datapool.asf.alaska.edu/SLC/SB/S1B_IW_SLC__1SDV_20210711T014947_20210711T015013_027740_034F80_D404.zip',\n",
       "   'pgeVersion': '003.31',\n",
       "   'fileName': 'S1B_IW_SLC__1SDV_20210711T014947_20210711T015013_027740_034F80_D404.zip',\n",
       "   'frameNumber': 108},\n",
       "  {'beamModeType': 'IW',\n",
       "   'browse': None,\n",
       "   'bytes': 4150793626,\n",
       "   'centerLat': 32.9309,\n",
       "   'centerLon': -117.2057,\n",
       "   'faradayRotation': None,\n",
       "   'fileID': 'S1B_IW_SLC__1SDV_20210711T014922_20210711T014949_027740_034F80_859D-SLC',\n",
       "   'flightDirection': 'ASCENDING',\n",
       "   'groupID': 'S1B_IWDV_0102_0109_027740_064',\n",
       "   'granuleType': 'SENTINEL_1B_FRAME',\n",
       "   'insarStackId': None,\n",
       "   'md5sum': '8cad65891ffcbb32218cece857104ed3',\n",
       "   'offNadirAngle': None,\n",
       "   'orbit': 27740,\n",
       "   'pathNumber': 64,\n",
       "   'platform': 'Sentinel-1B',\n",
       "   'pointingAngle': None,\n",
       "   'polarization': 'VV+VH',\n",
       "   'processingDate': '2021-07-11T01:49:22.000Z',\n",
       "   'processingLevel': 'SLC',\n",
       "   'sceneName': 'S1B_IW_SLC__1SDV_20210711T014922_20210711T014949_027740_034F80_859D',\n",
       "   'sensor': 'C-SAR',\n",
       "   'startTime': '2021-07-11T01:49:22.000Z',\n",
       "   'stopTime': '2021-07-11T01:49:49.000Z',\n",
       "   'url': 'https://datapool.asf.alaska.edu/SLC/SB/S1B_IW_SLC__1SDV_20210711T014922_20210711T014949_027740_034F80_859D.zip',\n",
       "   'pgeVersion': '003.31',\n",
       "   'fileName': 'S1B_IW_SLC__1SDV_20210711T014922_20210711T014949_027740_034F80_859D.zip',\n",
       "   'frameNumber': 103}]}"
      ]
     },
     "execution_count": 5,
     "metadata": {},
     "output_type": "execute_result"
    }
   ],
   "source": [
    "out_slc = download_slcs(reference_scenes,\n",
    "                        secondary_scenes,\n",
    "                        dry_run=dry_run)\n",
    "out_slc"
   ]
  },
  {
   "cell_type": "markdown",
   "id": "mounted-title",
   "metadata": {},
   "source": [
    "# Orbits\n",
    "Make sure `ESA_USERNAME` and `ESA_PASSWORD` environment variables are set before running this."
   ]
  },
  {
   "cell_type": "code",
   "execution_count": 10,
   "id": "suitable-hardware",
   "metadata": {
    "ExecuteTime": {
     "end_time": "2022-01-19T02:29:44.689301Z",
     "start_time": "2022-01-19T02:29:37.369332Z"
    }
   },
   "outputs": [
    {
     "data": {
      "text/plain": [
       "{'orbit_directory': 'orbits',\n",
       " 'reference_orbits': [\"https://scihub.copernicus.eu/gnss/odata/v1/Products('b1085082-4941-4d7e-8e15-4ab9fa6bd118')/$value\"],\n",
       " 'secondary_orbits': [\"https://scihub.copernicus.eu/gnss/odata/v1/Products('0a5b7c24-01de-4c15-a313-2ff02102f995')/$value\"]}"
      ]
     },
     "execution_count": 10,
     "metadata": {},
     "output_type": "execute_result"
    }
   ],
   "source": [
    "check_esa_credentials(None, None)\n",
    "out_orbit = download_orbits(reference_scenes,\n",
    "                            secondary_scenes,\n",
    "                            dry_run=dry_run)\n",
    "out_orbit"
   ]
  },
  {
   "cell_type": "markdown",
   "id": "laden-amino",
   "metadata": {},
   "source": [
    "# DEM\n",
    "\n",
    "Don't currently have \"dry-run\" for this localization."
   ]
  },
  {
   "cell_type": "code",
   "execution_count": null,
   "id": "surprised-trinidad",
   "metadata": {
    "ExecuteTime": {
     "end_time": "2022-01-19T02:31:52.330620Z",
     "start_time": "2022-01-19T02:29:44.690665Z"
    }
   },
   "outputs": [
    {
     "name": "stderr",
     "output_type": "stream",
     "text": [
      "Reading glo_30 Datasets: 100%|█| 15/15 [00:20<00:00,\n"
     ]
    }
   ],
   "source": [
    "out_dem = download_dem_for_isce2(out_slc['extent'])\n",
    "out_dem"
   ]
  },
  {
   "cell_type": "markdown",
   "id": "touched-cleanup",
   "metadata": {
    "ExecuteTime": {
     "end_time": "2021-09-21T16:57:52.231862Z",
     "start_time": "2021-09-21T16:57:52.231851Z"
    }
   },
   "source": [
    "# Aux Cal"
   ]
  },
  {
   "cell_type": "code",
   "execution_count": null,
   "id": "0d5bc798",
   "metadata": {
    "ExecuteTime": {
     "end_time": "2022-01-19T02:31:55.728888Z",
     "start_time": "2022-01-19T02:31:52.332425Z"
    }
   },
   "outputs": [],
   "source": [
    "out_aux_cal = download_aux_cal()"
   ]
  },
  {
   "cell_type": "markdown",
   "id": "311fec1d",
   "metadata": {},
   "source": [
    "# Combining Metadata"
   ]
  },
  {
   "cell_type": "code",
   "execution_count": null,
   "id": "083b456f",
   "metadata": {
    "ExecuteTime": {
     "end_time": "2022-01-19T02:31:55.765590Z",
     "start_time": "2022-01-19T02:31:55.730757Z"
    }
   },
   "outputs": [],
   "source": [
    "out = {**out_slc,\n",
    "       **out_dem,\n",
    "       **out_aux_cal,\n",
    "       **out_orbit}\n",
    "out"
   ]
  },
  {
   "cell_type": "markdown",
   "id": "4c69f52c",
   "metadata": {},
   "source": [
    "# Check Name"
   ]
  },
  {
   "cell_type": "code",
   "execution_count": null,
   "id": "f0da83b3",
   "metadata": {
    "ExecuteTime": {
     "end_time": "2022-01-19T02:31:55.828949Z",
     "start_time": "2022-01-19T02:31:55.768226Z"
    }
   },
   "outputs": [],
   "source": [
    "from isce2_topsapp.packaging import get_gunw_id\n",
    "\n",
    "gunw_id = get_gunw_id(reference_properties=out['reference_properties'],\n",
    "                      secondary_properties=out['secondary_properties'],\n",
    "                      extent=out['extent'])\n",
    "gunw_id\n"
   ]
  }
 ],
 "metadata": {
  "kernelspec": {
   "display_name": "Python 3 (ipykernel)",
   "language": "python",
   "name": "python3"
  },
  "language_info": {
   "codemirror_mode": {
    "name": "ipython",
    "version": 3
   },
   "file_extension": ".py",
   "mimetype": "text/x-python",
   "name": "python",
   "nbconvert_exporter": "python",
   "pygments_lexer": "ipython3",
   "version": "3.9.16"
  }
 },
 "nbformat": 4,
 "nbformat_minor": 5
}
