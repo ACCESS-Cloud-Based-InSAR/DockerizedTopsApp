{
 "cells": [
  {
   "cell_type": "code",
   "execution_count": null,
   "metadata": {},
   "outputs": [],
   "source": [
    "# Create sensing grid\n",
    "\n",
    "from mintpy import iono_tec"
   ]
  },
  {
   "cell_type": "code",
   "execution_count": null,
   "metadata": {},
   "outputs": [],
   "source": [
    "import os\n",
    "import site\n",
    "from pathlib import Path\n",
    "from isce2_topsapp import iono_proc\n",
    "from isce.applications import topsApp\n",
    "# Update PATH with ISCE2 applications\n",
    "isce_app_path = Path(f\"{site.getsitepackages()[0]}\" \"/isce/applications/\")\n",
    "os.environ[\"PATH\"] += \":\" + str(isce_app_path)\n",
    "\n",
    "tops_app_cmd = f\"{isce_app_path}/topsApp.py\"\n",
    "os.chdir('/u/trappist-r0/govorcin/ARIA-tools/IONO/isce/docker_A_B')\n",
    "#Load input file\n",
    "topsapp = topsApp.TopsInSAR(name=\"topsApp\", cmdline=['topsApp.xml'])\n",
    "topsapp.configure()\n",
    "\n",
    "#Load pickle objekt from 1 step before ion: fine resampale\n",
    "topsapp.loadPickleObj('/u/trappist-r0/govorcin/ARIA-tools/IONO/isce/docker_A_B/PICKLE/fineresamp')"
   ]
  },
  {
   "cell_type": "code",
   "execution_count": null,
   "metadata": {},
   "outputs": [],
   "source": [
    "ionParam = iono_proc.runIon.setup(topsapp)\n"
   ]
  },
  {
   "cell_type": "code",
   "execution_count": null,
   "metadata": {},
   "outputs": [],
   "source": [
    "iono_proc.ionSwathBySwath(topsapp, ionParam)\n",
    "\n"
   ]
  },
  {
   "cell_type": "code",
   "execution_count": null,
   "metadata": {},
   "outputs": [],
   "source": [
    "%matplotlib inline\n",
    "import os\n",
    "import datetime as dt\n",
    "\n",
    "import geopandas as gpd\n",
    "import numpy as np\n",
    "import pandas as pd\n",
    "from matplotlib import pyplot as plt, colorbar, ticker, colors\n",
    "from scipy import interpolate, stats\n",
    "from shapely.geometry import Point\n",
    "\n",
    "from mintpy import iono_tec\n",
    "from mintpy.objects import sensor, ionex\n",
    "from mintpy.simulation import iono\n",
    "from mintpy.utils import ptime, readfile, writefile\n",
    "plt.rcParams.update({'font.size': 12})\n",
    "\n",
    "#proj_dir = os.path.expanduser('.')\n",
    "#work_dir = os.path.join(proj_dir, 'TEC')\n",
    "#os.chdir(work_dir)\n",
    "#print('Go to directory:', work_dir)\n",
    "\n",
    "# aux info\n",
    "tec_dir = os.path.expanduser('~/data/aux/IONEX')\n",
    "#tf_file = os.path.join(work_dir, 'tframe_left_look.gpkg')\n",
    "\n",
    "inc_angle = 42\n",
    "inc_angle_iono = iono.incidence_angle_ground2iono(inc_angle)"
   ]
  },
  {
   "cell_type": "code",
   "execution_count": null,
   "metadata": {},
   "outputs": [],
   "source": [
    "tec_files = []\n",
    "for year in range(2014, 2023):\n",
    "    date_list = ptime.get_date_range(f'{year}0101', f'{year}1231')\n",
    "    tec_files += iono_tec.download_ionex_files(date_list, tec_dir, sol_code='jpl')"
   ]
  },
  {
   "cell_type": "code",
   "execution_count": null,
   "metadata": {},
   "outputs": [],
   "source": [
    "\n",
    "from numpy.typing import NDArray\n",
    "from isce.components.isceobj.Constants import SPEED_OF_LIGHT\n",
    "from isce.applications import topsApp\n",
    "\n",
    "def get_sensingtime_grid(self, lats, lons, hgts) -> NDArray:\n",
    "\n",
    "    #Get frames and orbit\n",
    "    swathList = self._insar.getValidSwathList(topsapp.swaths)\n",
    "    frames = []\n",
    "    for swath in swathList:\n",
    "        referenceProduct = self._insar.loadProduct( os.path.join(self._insar.fineCoregDirname, 'IW{0}.xml'.format(swath)))\n",
    "        frames.append(referenceProduct)\n",
    "\n",
    "    # Load orbits\n",
    "    orb = self._insar.getMergedOrbit(frames)\n",
    "\n",
    "    # Create sensing grid array\n",
    "    length, width = lat_ds.RasterYSize, lat_ds.RasterXSize \n",
    "\n",
    "    sensing_grid = np.zeros((length, width, 2), dtype=np.float64)\n",
    "\n",
    "    for iy in range(0,length,1):\n",
    "        for ix in range(0,width,1):\n",
    "            if lats[iy,ix] !=0:\n",
    "                pixel_sensing_az_rg = orb.geo2rdr(llh=(lats[iy,ix],\n",
    "                                                       lons[iy,ix],\n",
    "                                                       hgts[iy,ix]))\n",
    "                \n",
    "                sensing_grid[iy,ix,0] = pixel_sensing_az_rg[0].timestamp()\n",
    "                sensing_grid[iy,ix,1] = (2*pixel_sensing_az_rg[1]) / SPEED_OF_LIGHT\n",
    "             \n",
    "    return sensing_grid"
   ]
  },
  {
   "cell_type": "code",
   "execution_count": null,
   "metadata": {},
   "outputs": [],
   "source": [
    "from pathlib import Path\n",
    "import pandas as pd\n",
    "import numpy as np\n",
    "\n",
    "def get_nc_groups(filename_nc : str):\n",
    "    from osgeo import gdal\n",
    "    #open nc file\n",
    "    ds = gdal.Open(filename_nc)\n",
    "    metadata = ds.GetMetadata()\n",
    "\n",
    "    # Get Groups\n",
    "    groups_df = pd.DataFrame(columns=['LAYER','PATH'])\n",
    "    for layer in ds.GetSubDatasets():\n",
    "        layer_df = pd.DataFrame(data={'LAYER':[layer[0].split(':')[-1].split('/')[-1]],\n",
    "                                       'PATH':[layer[0]]})\n",
    "        groups_df = pd.concat([groups_df, layer_df], ignore_index=True)\n",
    "    #close\n",
    "    ds = None\n",
    "\n",
    "    return groups_df, metadata\n",
    "\n",
    "def read_nc_group(group_path:str):\n",
    "    from osgeo import gdal\n",
    "    # group_path : 'NETCDF:\"$path/file.nc\":group_layer\n",
    "    # example: 'NETCDF:\"$PATH/S1-GUNW-D-R-021-tops-20230210_20230129-033529-00035E_00034N-PP-9780-v2_0_6.nc\":/science/grids/data/unwrappedPhase'\n",
    "\n",
    "    # open group\n",
    "    ds = gdal.Open(group_path, gdal.GA_ReadOnly)\n",
    "\n",
    "    # Get group/raster array\n",
    "    data =  ds.ReadAsArray()\n",
    "    nodata = ds.GetRasterBand(1).GetNoDataValue()\n",
    "    metadata = ds.GetMetadata()\n",
    "\n",
    "    # Get raster geographical information\n",
    "    trans = ds.GetGeoTransform()\n",
    "    xsize = ds.RasterXSize\n",
    "    ysize = ds.RasterYSize\n",
    "    snwe = [trans[3] + ysize * trans[5], trans[3],\n",
    "              trans[0], trans[0] + xsize * trans[1]]\n",
    "    lon_spacing = trans[1]\n",
    "    lat_spacing = trans[5]\n",
    "    \n",
    "    projection = ds.GetProjection()\n",
    "\n",
    "    # wrap raster info in dict\n",
    "    raster_dict = {'NODATA' : nodata,\n",
    "                   'LENGTH' : ysize,\n",
    "                   'WIDTH'  : xsize,\n",
    "                   'SNWE'   : snwe,\n",
    "                   'LON_SPACING' : lon_spacing,\n",
    "                   'LAT_SPACING' : lat_spacing,\n",
    "                   'PROJECTION' : projection}\n",
    "\n",
    "    # close\n",
    "    ds = None\n",
    "\n",
    "    return data, raster_dict, metadata\n",
    "\n",
    "# get image extent from attr['snwe'] for plotting\n",
    "def snwe_to_extent(snwe):\n",
    "    extent = [snwe[2], snwe[3], snwe[0], snwe[1]]\n",
    "    \n",
    "    return extent"
   ]
  },
  {
   "cell_type": "code",
   "execution_count": null,
   "metadata": {},
   "outputs": [],
   "source": [
    "import os\n",
    "os.chdir('/u/trappist-r0/govorcin/ARIA-tools/IONO/isce/docker_test2')"
   ]
  },
  {
   "cell_type": "code",
   "execution_count": null,
   "metadata": {},
   "outputs": [],
   "source": [
    "os.listdir('S1-GUNW-A-R-064-tops-20211120_20211108-014951-00119W_00030N-PP-aed8-v2_0_6')"
   ]
  },
  {
   "cell_type": "code",
   "execution_count": null,
   "metadata": {},
   "outputs": [],
   "source": [
    "get_nc_groups('S1-GUNW-A-R-064-tops-20211120_20211108-014951-00119W_00030N-PP-aed8-v2_0_6/S1-GUNW-A-R-064-tops-20211120_20211108-014951-00119W_00030N-PP-aed8-v2_0_6.nc')"
   ]
  },
  {
   "cell_type": "code",
   "execution_count": null,
   "metadata": {},
   "outputs": [],
   "source": [
    "from osgeo import gdal\n",
    "ds = gdal.Open('S1-GUNW-A-R-064-tops-20211120_20211108-014951-00119W_00030N-PP-aed8-v2_0_6/S1-GUNW-A-R-064-tops-20211120_20211108-014951-00119W_00030N-PP-aed8-v2_0_6.nc')"
   ]
  },
  {
   "cell_type": "code",
   "execution_count": null,
   "metadata": {},
   "outputs": [],
   "source": [
    "for layer in ds.GetSubDatasets():\n",
    "    print(layer)"
   ]
  },
  {
   "cell_type": "code",
   "execution_count": null,
   "metadata": {},
   "outputs": [],
   "source": [
    "metadata = ds.GetMetadata()\n",
    "metadata"
   ]
  },
  {
   "cell_type": "code",
   "execution_count": null,
   "metadata": {},
   "outputs": [],
   "source": [
    "import h5py"
   ]
  },
  {
   "cell_type": "code",
   "execution_count": null,
   "metadata": {},
   "outputs": [],
   "source": [
    "file = h5py.File('merged/metadata.h5', 'r')"
   ]
  },
  {
   "cell_type": "code",
   "execution_count": null,
   "metadata": {},
   "outputs": [],
   "source": [
    "dateime(midtight) + timedelta(second=10000)"
   ]
  },
  {
   "cell_type": "code",
   "execution_count": null,
   "metadata": {},
   "outputs": [],
   "source": [
    "data = file['cube']\n",
    "print(data.keys())"
   ]
  },
  {
   "cell_type": "code",
   "execution_count": null,
   "metadata": {},
   "outputs": [],
   "source": [
    "data['lats'], data['lons'], data['heights']"
   ]
  },
  {
   "cell_type": "code",
   "execution_count": null,
   "metadata": {},
   "outputs": [],
   "source": [
    "data['lats'].shape[0]"
   ]
  },
  {
   "cell_type": "code",
   "execution_count": null,
   "metadata": {},
   "outputs": [],
   "source": [
    "data['lats'][:]"
   ]
  },
  {
   "cell_type": "code",
   "execution_count": null,
   "metadata": {},
   "outputs": [],
   "source": [
    "sensing_grid = np.zeros((data['lats'].shape[0],\n",
    "                         data['lons'].shape[0], \n",
    "                         data['heights'].shape[0]))"
   ]
  },
  {
   "cell_type": "code",
   "execution_count": null,
   "metadata": {},
   "outputs": [],
   "source": [
    "from matplotlib import pyplot as plt\n",
    "plt.imshow(sensing_grid[:,:,0])"
   ]
  },
  {
   "cell_type": "code",
   "execution_count": null,
   "metadata": {},
   "outputs": [],
   "source": [
    "nz_idx = np.nonzero(data['lats'][:])"
   ]
  },
  {
   "cell_type": "code",
   "execution_count": null,
   "metadata": {},
   "outputs": [],
   "source": [
    "os.path.join(os.getcwd(),'PICKLE/geocode')"
   ]
  },
  {
   "cell_type": "code",
   "execution_count": null,
   "metadata": {},
   "outputs": [],
   "source": [
    "import h5py\n",
    "import os\n",
    "from isce.components.isceobj.Constants import SPEED_OF_LIGHT\n",
    "from datetime import timedelta\n",
    "from isce.applications import topsApp\n",
    "\n",
    "file = h5py.File('merged/metadata.h5', 'r')\n",
    "data = file['cube']\n",
    "\n",
    "\n",
    "#Load input file\n",
    "topsapp = topsApp.TopsInSAR(name=\"topsApp\", cmdline=['topsApp.xml'])\n",
    "topsapp.configure()\n",
    "\n",
    "#Load pickle object\n",
    "topsapp.loadPickleObj(os.path.join(os.getcwd(),'PICKLE/geocode'))\n",
    "\n",
    "#Get frames and orbit\n",
    "swathList = topsapp._insar.getValidSwathList(topsapp.swaths)\n",
    "frames = []\n",
    "for swath in swathList:\n",
    "    referenceProduct = topsapp._insar.loadProduct(os.path.join(topsapp._insar.fineCoregDirname, 'IW{0}.xml'.format(swath)))\n",
    "    frames.append(referenceProduct)\n",
    "\n",
    "# Load orbits\n",
    "orb = topsapp._insar.getMergedOrbit(frames)\n",
    "\n",
    "sensing_grid = np.zeros((data['lats'].shape[0],\n",
    "                         data['lons'].shape[0], \n",
    "                         data['heights'].shape[0]))\n",
    "\n",
    "for iy, lat in enumerate(data['lats'][:]):\n",
    "    for ix, lon in enumerate(data['lons'][:]):\n",
    "        for iz, hgt in enumerate(data['heights'][:]):\n",
    "            pixel_sensing_az_rg = orb.geo2rdr(llh=(lat,lon,hgt))                                              # approx, should alwys start from 1 swath\n",
    "            sensing = pixel_sensing_az_rg[0] + timedelta(seconds=(pixel_sensing_az_rg[1]) / SPEED_OF_LIGHT) # azimuth_sensing_time +( ix * PRF + range/speed of light)\n",
    "            sensing_grid[iy,ix,iz]  = sensing.timestamp()"
   ]
  },
  {
   "cell_type": "code",
   "execution_count": null,
   "metadata": {},
   "outputs": [],
   "source": [
    "(lat,lon,hgt) 1/PRF"
   ]
  },
  {
   "cell_type": "code",
   "execution_count": null,
   "metadata": {},
   "outputs": [],
   "source": [
    "orb.geo2rdr(llh=(30,-115,1050))[0] - orb.geo2rdr(llh=(30,-115,1000))[0] "
   ]
  },
  {
   "cell_type": "code",
   "execution_count": null,
   "metadata": {},
   "outputs": [],
   "source": [
    "pixel_sensing_az_rg[1] / SPEED_OF_LIGHT"
   ]
  },
  {
   "cell_type": "code",
   "execution_count": null,
   "metadata": {},
   "outputs": [],
   "source": [
    "frames[1].bursts.burst1.firstValidSample * (1/frames[1].bursts.burst1.prf)"
   ]
  },
  {
   "cell_type": "code",
   "execution_count": null,
   "metadata": {},
   "outputs": [],
   "source": [
    "frames[1].bursts.burst1.lastValidSample * (1/frames[1].bursts.burst1.prf) + pixel_sensing_az_rg[1] / SPEED_OF_LIGHT"
   ]
  },
  {
   "cell_type": "code",
   "execution_count": null,
   "metadata": {},
   "outputs": [],
   "source": []
  },
  {
   "cell_type": "code",
   "execution_count": null,
   "metadata": {},
   "outputs": [],
   "source": [
    "np.broadcast_to(data['lats'][:], (72,47))"
   ]
  },
  {
   "cell_type": "code",
   "execution_count": null,
   "metadata": {},
   "outputs": [],
   "source": [
    "from datetime import datetime"
   ]
  },
  {
   "cell_type": "code",
   "execution_count": null,
   "metadata": {},
   "outputs": [],
   "source": [
    "datetime.fromtimestamp(sensing_grid[:,:,3])"
   ]
  },
  {
   "cell_type": "code",
   "execution_count": null,
   "metadata": {},
   "outputs": [],
   "source": [
    "from datetime import datetime\n",
    "[datetime.fromtimestamp(i) for i in sensing_grid[0,:,3]]"
   ]
  },
  {
   "cell_type": "code",
   "execution_count": null,
   "metadata": {},
   "outputs": [],
   "source": [
    "plt.imshow(sensing_grid[:,:,])\n",
    "plt.colorbar()"
   ]
  },
  {
   "cell_type": "code",
   "execution_count": null,
   "metadata": {},
   "outputs": [],
   "source": [
    "datetime.fromtimestamp()"
   ]
  },
  {
   "cell_type": "code",
   "execution_count": null,
   "metadata": {},
   "outputs": [],
   "source": [
    "lats = data['lats'][:]\n",
    "lons = data['lons'][:]\n",
    "heights = data['heights'][:]\n",
    "\n",
    "# Reshape the arrays to create a 3D grid\n",
    "ny, nx, nz = (lats.shape[0], \n",
    "              lons.shape[0], \n",
    "              heights.shape[0])\n",
    "lats = lats.reshape(ny, nx, 1)\n",
    "lons = lons.reshape(ny, nx, 1)\n",
    "heights = heights.reshape(1, 1, nz)\n",
    "\n",
    "\n",
    "pixels_sensing_az_rg = orb.geo2rdr(llh=(lats, lons, heights))"
   ]
  },
  {
   "cell_type": "code",
   "execution_count": null,
   "metadata": {},
   "outputs": [],
   "source": [
    "coords = np.stack((data['lats'][:], data['lons'][:], data['heights'][:]), axis=-1)"
   ]
  }
 ],
 "metadata": {
  "kernelspec": {
   "display_name": "topsapp_env",
   "language": "python",
   "name": "python3"
  },
  "language_info": {
   "codemirror_mode": {
    "name": "ipython",
    "version": 3
   },
   "file_extension": ".py",
   "mimetype": "text/x-python",
   "name": "python",
   "nbconvert_exporter": "python",
   "pygments_lexer": "ipython3",
   "version": "3.9.16"
  },
  "orig_nbformat": 4
 },
 "nbformat": 4,
 "nbformat_minor": 2
}
